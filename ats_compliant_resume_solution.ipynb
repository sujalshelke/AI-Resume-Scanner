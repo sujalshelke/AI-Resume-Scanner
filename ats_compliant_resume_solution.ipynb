{
  "cells": [
    {
      "cell_type": "markdown",
      "metadata": {
        "id": "view-in-github",
        "colab_type": "text"
      },
      "source": [
        "<a href=\"https://colab.research.google.com/github/sujalrmn/MyFirstProject/blob/master/ats_compliant_resume_solution.ipynb\" target=\"_parent\"><img src=\"https://colab.research.google.com/assets/colab-badge.svg\" alt=\"Open In Colab\"/></a>"
      ]
    },
    {
      "cell_type": "code",
      "execution_count": null,
      "metadata": {
        "collapsed": true,
        "id": "KwFTSo8-8uFg"
      },
      "outputs": [],
      "source": [
        "%%capture --no-stderr\n",
        "%pip uninstall -y gradio numpy\n",
        "%pip install gradio==3.38.0 numpy==1.24.3\n",
        "%pip install --upgrade --quiet  langchain langchain-community langchainhub langchain-chroma bs4\n",
        "%pip install -qU langchain-openai\n",
        "!pip gradio_client==0.2.10\n",
        "!pip install langchain langchain-community langchain-openai chromadb sentence-transformers beautifulsoup4\n",
        "!pip install docx2txt"
      ]
    },
    {
      "cell_type": "code",
      "execution_count": null,
      "metadata": {
        "id": "e--n56Os9KSM",
        "colab": {
          "base_uri": "https://localhost:8080/"
        },
        "outputId": "3e8599f5-1685-4437-f86f-4e0f8ef1825e"
      },
      "outputs": [
        {
          "name": "stdout",
          "output_type": "stream",
          "text": [
            "··········\n"
          ]
        }
      ],
      "source": [
        "import getpass\n",
        "import os\n",
        "\n",
        "if not os.environ.get(\"OPEN_API_AI_KEY\"):\n",
        "    os.environ[\"OPENAI_API_KEY\"] = getpass.getpass()"
      ]
    },
    {
      "cell_type": "code",
      "source": [
        "!pip uninstall -y gradio"
      ],
      "metadata": {
        "colab": {
          "base_uri": "https://localhost:8080/"
        },
        "id": "mbI8_L2FBg6v",
        "outputId": "fd7f0fe5-faac-4914-d06e-8a195cc0e2e2"
      },
      "execution_count": null,
      "outputs": [
        {
          "output_type": "stream",
          "name": "stdout",
          "text": [
            "\u001b[33mWARNING: Skipping gradio as it is not installed.\u001b[0m\u001b[33m\n",
            "\u001b[0m"
          ]
        }
      ]
    },
    {
      "cell_type": "code",
      "source": [
        "!pip install gradio==4.27.0 --no-cache-dir"
      ],
      "metadata": {
        "colab": {
          "base_uri": "https://localhost:8080/",
          "height": 1000
        },
        "id": "QS6swwHUBjwr",
        "outputId": "ac4af955-949d-4660-e581-16a4c22f4c35"
      },
      "execution_count": null,
      "outputs": [
        {
          "output_type": "stream",
          "name": "stdout",
          "text": [
            "Collecting gradio==4.27.0\n",
            "  Downloading gradio-4.27.0-py3-none-any.whl.metadata (15 kB)\n",
            "Requirement already satisfied: aiofiles<24.0,>=22.0 in /usr/local/lib/python3.12/dist-packages (from gradio==4.27.0) (23.2.1)\n",
            "Requirement already satisfied: altair<6.0,>=4.2.0 in /usr/local/lib/python3.12/dist-packages (from gradio==4.27.0) (5.5.0)\n",
            "Requirement already satisfied: fastapi in /usr/local/lib/python3.12/dist-packages (from gradio==4.27.0) (0.116.1)\n",
            "Requirement already satisfied: ffmpy in /usr/local/lib/python3.12/dist-packages (from gradio==4.27.0) (0.6.1)\n",
            "Collecting gradio-client==0.15.1 (from gradio==4.27.0)\n",
            "  Downloading gradio_client-0.15.1-py3-none-any.whl.metadata (7.1 kB)\n",
            "Requirement already satisfied: httpx>=0.24.1 in /usr/local/lib/python3.12/dist-packages (from gradio==4.27.0) (0.28.1)\n",
            "Requirement already satisfied: huggingface-hub>=0.19.3 in /usr/local/lib/python3.12/dist-packages (from gradio==4.27.0) (0.34.4)\n",
            "Requirement already satisfied: importlib-resources<7.0,>=1.3 in /usr/local/lib/python3.12/dist-packages (from gradio==4.27.0) (6.5.2)\n",
            "Requirement already satisfied: jinja2<4.0 in /usr/local/lib/python3.12/dist-packages (from gradio==4.27.0) (3.1.6)\n",
            "Requirement already satisfied: markupsafe~=2.0 in /usr/local/lib/python3.12/dist-packages (from gradio==4.27.0) (2.1.5)\n",
            "Requirement already satisfied: matplotlib~=3.0 in /usr/local/lib/python3.12/dist-packages (from gradio==4.27.0) (3.10.0)\n",
            "Collecting numpy~=1.0 (from gradio==4.27.0)\n",
            "  Downloading numpy-1.26.4-cp312-cp312-manylinux_2_17_x86_64.manylinux2014_x86_64.whl.metadata (61 kB)\n",
            "\u001b[2K     \u001b[90m━━━━━━━━━━━━━━━━━━━━━━━━━━━━━━━━━━━━━━━━\u001b[0m \u001b[32m61.0/61.0 kB\u001b[0m \u001b[31m14.0 MB/s\u001b[0m eta \u001b[36m0:00:00\u001b[0m\n",
            "\u001b[?25hRequirement already satisfied: orjson~=3.0 in /usr/local/lib/python3.12/dist-packages (from gradio==4.27.0) (3.11.2)\n",
            "Requirement already satisfied: packaging in /usr/local/lib/python3.12/dist-packages (from gradio==4.27.0) (24.2)\n",
            "Requirement already satisfied: pandas<3.0,>=1.0 in /usr/local/lib/python3.12/dist-packages (from gradio==4.27.0) (2.2.2)\n",
            "Requirement already satisfied: pillow<11.0,>=8.0 in /usr/local/lib/python3.12/dist-packages (from gradio==4.27.0) (10.4.0)\n",
            "Requirement already satisfied: pydantic>=2.0 in /usr/local/lib/python3.12/dist-packages (from gradio==4.27.0) (2.11.7)\n",
            "Requirement already satisfied: pydub in /usr/local/lib/python3.12/dist-packages (from gradio==4.27.0) (0.25.1)\n",
            "Requirement already satisfied: python-multipart>=0.0.9 in /usr/local/lib/python3.12/dist-packages (from gradio==4.27.0) (0.0.20)\n",
            "Requirement already satisfied: pyyaml<7.0,>=5.0 in /usr/local/lib/python3.12/dist-packages (from gradio==4.27.0) (6.0.2)\n",
            "Requirement already satisfied: ruff>=0.2.2 in /usr/local/lib/python3.12/dist-packages (from gradio==4.27.0) (0.12.9)\n",
            "Requirement already satisfied: semantic-version~=2.0 in /usr/local/lib/python3.12/dist-packages (from gradio==4.27.0) (2.10.0)\n",
            "Collecting tomlkit==0.12.0 (from gradio==4.27.0)\n",
            "  Downloading tomlkit-0.12.0-py3-none-any.whl.metadata (2.7 kB)\n",
            "Requirement already satisfied: typer<1.0,>=0.12 in /usr/local/lib/python3.12/dist-packages (from gradio==4.27.0) (0.16.0)\n",
            "Requirement already satisfied: typing-extensions~=4.0 in /usr/local/lib/python3.12/dist-packages (from gradio==4.27.0) (4.14.1)\n",
            "Requirement already satisfied: urllib3~=2.0 in /usr/local/lib/python3.12/dist-packages (from gradio==4.27.0) (2.5.0)\n",
            "Requirement already satisfied: uvicorn>=0.14.0 in /usr/local/lib/python3.12/dist-packages (from gradio==4.27.0) (0.35.0)\n",
            "Requirement already satisfied: fsspec in /usr/local/lib/python3.12/dist-packages (from gradio-client==0.15.1->gradio==4.27.0) (2025.3.0)\n",
            "Requirement already satisfied: websockets<12.0,>=10.0 in /usr/local/lib/python3.12/dist-packages (from gradio-client==0.15.1->gradio==4.27.0) (11.0.3)\n",
            "Requirement already satisfied: jsonschema>=3.0 in /usr/local/lib/python3.12/dist-packages (from altair<6.0,>=4.2.0->gradio==4.27.0) (4.25.1)\n",
            "Requirement already satisfied: narwhals>=1.14.2 in /usr/local/lib/python3.12/dist-packages (from altair<6.0,>=4.2.0->gradio==4.27.0) (2.1.2)\n",
            "Requirement already satisfied: anyio in /usr/local/lib/python3.12/dist-packages (from httpx>=0.24.1->gradio==4.27.0) (4.10.0)\n",
            "Requirement already satisfied: certifi in /usr/local/lib/python3.12/dist-packages (from httpx>=0.24.1->gradio==4.27.0) (2025.8.3)\n",
            "Requirement already satisfied: httpcore==1.* in /usr/local/lib/python3.12/dist-packages (from httpx>=0.24.1->gradio==4.27.0) (1.0.9)\n",
            "Requirement already satisfied: idna in /usr/local/lib/python3.12/dist-packages (from httpx>=0.24.1->gradio==4.27.0) (3.10)\n",
            "Requirement already satisfied: h11>=0.16 in /usr/local/lib/python3.12/dist-packages (from httpcore==1.*->httpx>=0.24.1->gradio==4.27.0) (0.16.0)\n",
            "Requirement already satisfied: filelock in /usr/local/lib/python3.12/dist-packages (from huggingface-hub>=0.19.3->gradio==4.27.0) (3.19.1)\n",
            "Requirement already satisfied: requests in /usr/local/lib/python3.12/dist-packages (from huggingface-hub>=0.19.3->gradio==4.27.0) (2.32.4)\n",
            "Requirement already satisfied: tqdm>=4.42.1 in /usr/local/lib/python3.12/dist-packages (from huggingface-hub>=0.19.3->gradio==4.27.0) (4.67.1)\n",
            "Requirement already satisfied: hf-xet<2.0.0,>=1.1.3 in /usr/local/lib/python3.12/dist-packages (from huggingface-hub>=0.19.3->gradio==4.27.0) (1.1.7)\n",
            "Requirement already satisfied: contourpy>=1.0.1 in /usr/local/lib/python3.12/dist-packages (from matplotlib~=3.0->gradio==4.27.0) (1.3.3)\n",
            "Requirement already satisfied: cycler>=0.10 in /usr/local/lib/python3.12/dist-packages (from matplotlib~=3.0->gradio==4.27.0) (0.12.1)\n",
            "Requirement already satisfied: fonttools>=4.22.0 in /usr/local/lib/python3.12/dist-packages (from matplotlib~=3.0->gradio==4.27.0) (4.59.1)\n",
            "Requirement already satisfied: kiwisolver>=1.3.1 in /usr/local/lib/python3.12/dist-packages (from matplotlib~=3.0->gradio==4.27.0) (1.4.9)\n",
            "Requirement already satisfied: pyparsing>=2.3.1 in /usr/local/lib/python3.12/dist-packages (from matplotlib~=3.0->gradio==4.27.0) (3.2.3)\n",
            "Requirement already satisfied: python-dateutil>=2.7 in /usr/local/lib/python3.12/dist-packages (from matplotlib~=3.0->gradio==4.27.0) (2.9.0.post0)\n",
            "Requirement already satisfied: pytz>=2020.1 in /usr/local/lib/python3.12/dist-packages (from pandas<3.0,>=1.0->gradio==4.27.0) (2025.2)\n",
            "Requirement already satisfied: tzdata>=2022.7 in /usr/local/lib/python3.12/dist-packages (from pandas<3.0,>=1.0->gradio==4.27.0) (2025.2)\n",
            "Requirement already satisfied: annotated-types>=0.6.0 in /usr/local/lib/python3.12/dist-packages (from pydantic>=2.0->gradio==4.27.0) (0.7.0)\n",
            "Requirement already satisfied: pydantic-core==2.33.2 in /usr/local/lib/python3.12/dist-packages (from pydantic>=2.0->gradio==4.27.0) (2.33.2)\n",
            "Requirement already satisfied: typing-inspection>=0.4.0 in /usr/local/lib/python3.12/dist-packages (from pydantic>=2.0->gradio==4.27.0) (0.4.1)\n",
            "Requirement already satisfied: click>=8.0.0 in /usr/local/lib/python3.12/dist-packages (from typer<1.0,>=0.12->gradio==4.27.0) (8.2.1)\n",
            "Requirement already satisfied: shellingham>=1.3.0 in /usr/local/lib/python3.12/dist-packages (from typer<1.0,>=0.12->gradio==4.27.0) (1.5.4)\n",
            "Requirement already satisfied: rich>=10.11.0 in /usr/local/lib/python3.12/dist-packages (from typer<1.0,>=0.12->gradio==4.27.0) (13.9.4)\n",
            "Requirement already satisfied: starlette<0.48.0,>=0.40.0 in /usr/local/lib/python3.12/dist-packages (from fastapi->gradio==4.27.0) (0.47.2)\n",
            "Requirement already satisfied: attrs>=22.2.0 in /usr/local/lib/python3.12/dist-packages (from jsonschema>=3.0->altair<6.0,>=4.2.0->gradio==4.27.0) (25.3.0)\n",
            "Requirement already satisfied: jsonschema-specifications>=2023.03.6 in /usr/local/lib/python3.12/dist-packages (from jsonschema>=3.0->altair<6.0,>=4.2.0->gradio==4.27.0) (2025.4.1)\n",
            "Requirement already satisfied: referencing>=0.28.4 in /usr/local/lib/python3.12/dist-packages (from jsonschema>=3.0->altair<6.0,>=4.2.0->gradio==4.27.0) (0.36.2)\n",
            "Requirement already satisfied: rpds-py>=0.7.1 in /usr/local/lib/python3.12/dist-packages (from jsonschema>=3.0->altair<6.0,>=4.2.0->gradio==4.27.0) (0.27.0)\n",
            "Requirement already satisfied: six>=1.5 in /usr/local/lib/python3.12/dist-packages (from python-dateutil>=2.7->matplotlib~=3.0->gradio==4.27.0) (1.17.0)\n",
            "Requirement already satisfied: markdown-it-py>=2.2.0 in /usr/local/lib/python3.12/dist-packages (from rich>=10.11.0->typer<1.0,>=0.12->gradio==4.27.0) (2.2.0)\n",
            "Requirement already satisfied: pygments<3.0.0,>=2.13.0 in /usr/local/lib/python3.12/dist-packages (from rich>=10.11.0->typer<1.0,>=0.12->gradio==4.27.0) (2.19.2)\n",
            "Requirement already satisfied: sniffio>=1.1 in /usr/local/lib/python3.12/dist-packages (from anyio->httpx>=0.24.1->gradio==4.27.0) (1.3.1)\n",
            "Requirement already satisfied: charset_normalizer<4,>=2 in /usr/local/lib/python3.12/dist-packages (from requests->huggingface-hub>=0.19.3->gradio==4.27.0) (3.4.3)\n",
            "Requirement already satisfied: mdurl~=0.1 in /usr/local/lib/python3.12/dist-packages (from markdown-it-py>=2.2.0->rich>=10.11.0->typer<1.0,>=0.12->gradio==4.27.0) (0.1.2)\n",
            "Downloading gradio-4.27.0-py3-none-any.whl (17.1 MB)\n",
            "\u001b[2K   \u001b[90m━━━━━━━━━━━━━━━━━━━━━━━━━━━━━━━━━━━━━━━━\u001b[0m \u001b[32m17.1/17.1 MB\u001b[0m \u001b[31m122.3 MB/s\u001b[0m eta \u001b[36m0:00:00\u001b[0m\n",
            "\u001b[?25hDownloading gradio_client-0.15.1-py3-none-any.whl (313 kB)\n",
            "\u001b[2K   \u001b[90m━━━━━━━━━━━━━━━━━━━━━━━━━━━━━━━━━━━━━━━\u001b[0m \u001b[32m313.6/313.6 kB\u001b[0m \u001b[31m154.6 MB/s\u001b[0m eta \u001b[36m0:00:00\u001b[0m\n",
            "\u001b[?25hDownloading tomlkit-0.12.0-py3-none-any.whl (37 kB)\n",
            "Downloading numpy-1.26.4-cp312-cp312-manylinux_2_17_x86_64.manylinux2014_x86_64.whl (18.0 MB)\n",
            "\u001b[2K   \u001b[90m━━━━━━━━━━━━━━━━━━━━━━━━━━━━━━━━━━━━━━━━\u001b[0m \u001b[32m18.0/18.0 MB\u001b[0m \u001b[31m120.7 MB/s\u001b[0m eta \u001b[36m0:00:00\u001b[0m\n",
            "\u001b[?25hInstalling collected packages: tomlkit, numpy, gradio-client, gradio\n",
            "  Attempting uninstall: tomlkit\n",
            "    Found existing installation: tomlkit 0.13.3\n",
            "    Uninstalling tomlkit-0.13.3:\n",
            "      Successfully uninstalled tomlkit-0.13.3\n",
            "  Attempting uninstall: numpy\n",
            "    Found existing installation: numpy 2.3.2\n",
            "    Uninstalling numpy-2.3.2:\n",
            "      Successfully uninstalled numpy-2.3.2\n",
            "  Attempting uninstall: gradio-client\n",
            "    Found existing installation: gradio_client 1.12.1\n",
            "    Uninstalling gradio_client-1.12.1:\n",
            "      Successfully uninstalled gradio_client-1.12.1\n",
            "\u001b[31mERROR: pip's dependency resolver does not currently take into account all the packages that are installed. This behaviour is the source of the following dependency conflicts.\n",
            "opencv-python 4.12.0.88 requires numpy<2.3.0,>=2; python_version >= \"3.9\", but you have numpy 1.26.4 which is incompatible.\n",
            "opencv-contrib-python 4.12.0.88 requires numpy<2.3.0,>=2; python_version >= \"3.9\", but you have numpy 1.26.4 which is incompatible.\n",
            "opencv-python-headless 4.12.0.88 requires numpy<2.3.0,>=2; python_version >= \"3.9\", but you have numpy 1.26.4 which is incompatible.\n",
            "yfinance 0.2.65 requires websockets>=13.0, but you have websockets 11.0.3 which is incompatible.\n",
            "thinc 8.3.6 requires numpy<3.0.0,>=2.0.0, but you have numpy 1.26.4 which is incompatible.\u001b[0m\u001b[31m\n",
            "\u001b[0mSuccessfully installed gradio-4.27.0 gradio-client-0.15.1 numpy-1.26.4 tomlkit-0.12.0\n"
          ]
        },
        {
          "output_type": "display_data",
          "data": {
            "application/vnd.colab-display-data+json": {
              "pip_warning": {
                "packages": [
                  "numpy"
                ]
              },
              "id": "4fe2478ac9644f458497f68567e2ea5d"
            }
          },
          "metadata": {}
        }
      ]
    },
    {
      "cell_type": "code",
      "execution_count": null,
      "metadata": {
        "id": "Ox0nRNvb9k4H"
      },
      "outputs": [],
      "source": [
        "from langchain_openai import ChatOpenAI\n",
        "import bs4\n",
        "from langchain import hub\n",
        "from langchain.chains import create_retrieval_chain\n",
        "from langchain.chains.combine_documents import create_stuff_documents_chain\n",
        "from langchain_chroma import Chroma\n",
        "from langchain_community.document_loaders import WebBaseLoader\n",
        "from langchain_core.prompts import ChatPromptTemplate\n",
        "from langchain_openai import OpenAIEmbeddings\n",
        "from langchain_text_splitters import RecursiveCharacterTextSplitter\n",
        "from langchain.embeddings import OpenAIEmbeddings, SentenceTransformerEmbeddings\n",
        "from langchain.vectorstores import Chroma\n",
        "from langchain.docstore.document import Document\n",
        "import gradio as gr\n",
        "from langchain_community.document_loaders import Docx2txtLoader"
      ]
    },
    {
      "cell_type": "code",
      "execution_count": null,
      "metadata": {
        "id": "2_EPAgj99qn8"
      },
      "outputs": [],
      "source": [
        "llm = ChatOpenAI(model=\"gpt-3.5-turbo-0125\")"
      ]
    },
    {
      "cell_type": "code",
      "source": [
        "loader = WebBaseLoader(\n",
        "    web_paths=(\"https://resumerocket.io/blog/keyword-optimization-guide-making-your-resume-ats-friendly\",)\n",
        ")\n",
        "docs = loader.load()"
      ],
      "metadata": {
        "id": "Bfshr9lEsu9u"
      },
      "execution_count": null,
      "outputs": []
    },
    {
      "cell_type": "code",
      "execution_count": null,
      "metadata": {
        "id": "cEKvo_B-93Ki"
      },
      "outputs": [],
      "source": [
        "# 2. Incorporate the retriever into a question-answering chain.\n",
        "system_prompt = (\n",
        "    \"You are an assistant for parsing ATS compliant resumes from uploaded files.\"\n",
        "    \"Give a yes or no answer to the uploaded file\"\n",
        "    \"\\n\\n\"\n",
        "    \"{context}\"\n",
        ")\n",
        "\n",
        "prompt = ChatPromptTemplate.from_messages(\n",
        "    [\n",
        "        (\"system\", system_prompt),\n",
        "        (\"human\", \"{input}\"),\n",
        "    ]\n",
        ")"
      ]
    },
    {
      "cell_type": "code",
      "source": [
        "text_splitter = RecursiveCharacterTextSplitter(chunk_size=1000, chunk_overlap=200)\n",
        "splits = text_splitter.split_documents(docs)\n",
        "\n",
        "vectorstore = Chroma.from_documents(documents=splits, embedding=OpenAIEmbeddings())\n",
        "retriever = vectorstore.as_retriever()"
      ],
      "metadata": {
        "colab": {
          "base_uri": "https://localhost:8080/"
        },
        "id": "OG-HEp405gFC",
        "outputId": "ce05e305-347e-480b-b3c6-9b66195b01c2"
      },
      "execution_count": null,
      "outputs": [
        {
          "output_type": "stream",
          "name": "stderr",
          "text": [
            "/tmp/ipython-input-4046571839.py:4: LangChainDeprecationWarning: The class `OpenAIEmbeddings` was deprecated in LangChain 0.0.9 and will be removed in 1.0. An updated version of the class exists in the :class:`~langchain-openai package and should be used instead. To use it run `pip install -U :class:`~langchain-openai` and import as `from :class:`~langchain_openai import OpenAIEmbeddings``.\n",
            "  vectorstore = Chroma.from_documents(documents=splits, embedding=OpenAIEmbeddings())\n"
          ]
        }
      ]
    },
    {
      "cell_type": "code",
      "execution_count": null,
      "metadata": {
        "id": "oDsg8PXC99sB"
      },
      "outputs": [],
      "source": [
        "question_answer_chain = create_stuff_documents_chain(llm, prompt)\n",
        "rag_chain = create_retrieval_chain(retriever, question_answer_chain)"
      ]
    },
    {
      "cell_type": "code",
      "source": [
        "from google.colab import files\n",
        "\n",
        "uploaded = files.upload()\n",
        "\n",
        "print(uploaded)"
      ],
      "metadata": {
        "id": "1k1o-5Qou1YH",
        "outputId": "978942fc-b70f-4204-d392-c5d4a8a44b06",
        "colab": {
          "base_uri": "https://localhost:8080/",
          "height": 112
        }
      },
      "execution_count": null,
      "outputs": [
        {
          "output_type": "display_data",
          "data": {
            "text/plain": [
              "<IPython.core.display.HTML object>"
            ],
            "text/html": [
              "\n",
              "     <input type=\"file\" id=\"files-564989bd-6cbf-4f56-8193-be9e40579b2a\" name=\"files[]\" multiple disabled\n",
              "        style=\"border:none\" />\n",
              "     <output id=\"result-564989bd-6cbf-4f56-8193-be9e40579b2a\">\n",
              "      Upload widget is only available when the cell has been executed in the\n",
              "      current browser session. Please rerun this cell to enable.\n",
              "      </output>\n",
              "      <script>// Copyright 2017 Google LLC\n",
              "//\n",
              "// Licensed under the Apache License, Version 2.0 (the \"License\");\n",
              "// you may not use this file except in compliance with the License.\n",
              "// You may obtain a copy of the License at\n",
              "//\n",
              "//      http://www.apache.org/licenses/LICENSE-2.0\n",
              "//\n",
              "// Unless required by applicable law or agreed to in writing, software\n",
              "// distributed under the License is distributed on an \"AS IS\" BASIS,\n",
              "// WITHOUT WARRANTIES OR CONDITIONS OF ANY KIND, either express or implied.\n",
              "// See the License for the specific language governing permissions and\n",
              "// limitations under the License.\n",
              "\n",
              "/**\n",
              " * @fileoverview Helpers for google.colab Python module.\n",
              " */\n",
              "(function(scope) {\n",
              "function span(text, styleAttributes = {}) {\n",
              "  const element = document.createElement('span');\n",
              "  element.textContent = text;\n",
              "  for (const key of Object.keys(styleAttributes)) {\n",
              "    element.style[key] = styleAttributes[key];\n",
              "  }\n",
              "  return element;\n",
              "}\n",
              "\n",
              "// Max number of bytes which will be uploaded at a time.\n",
              "const MAX_PAYLOAD_SIZE = 100 * 1024;\n",
              "\n",
              "function _uploadFiles(inputId, outputId) {\n",
              "  const steps = uploadFilesStep(inputId, outputId);\n",
              "  const outputElement = document.getElementById(outputId);\n",
              "  // Cache steps on the outputElement to make it available for the next call\n",
              "  // to uploadFilesContinue from Python.\n",
              "  outputElement.steps = steps;\n",
              "\n",
              "  return _uploadFilesContinue(outputId);\n",
              "}\n",
              "\n",
              "// This is roughly an async generator (not supported in the browser yet),\n",
              "// where there are multiple asynchronous steps and the Python side is going\n",
              "// to poll for completion of each step.\n",
              "// This uses a Promise to block the python side on completion of each step,\n",
              "// then passes the result of the previous step as the input to the next step.\n",
              "function _uploadFilesContinue(outputId) {\n",
              "  const outputElement = document.getElementById(outputId);\n",
              "  const steps = outputElement.steps;\n",
              "\n",
              "  const next = steps.next(outputElement.lastPromiseValue);\n",
              "  return Promise.resolve(next.value.promise).then((value) => {\n",
              "    // Cache the last promise value to make it available to the next\n",
              "    // step of the generator.\n",
              "    outputElement.lastPromiseValue = value;\n",
              "    return next.value.response;\n",
              "  });\n",
              "}\n",
              "\n",
              "/**\n",
              " * Generator function which is called between each async step of the upload\n",
              " * process.\n",
              " * @param {string} inputId Element ID of the input file picker element.\n",
              " * @param {string} outputId Element ID of the output display.\n",
              " * @return {!Iterable<!Object>} Iterable of next steps.\n",
              " */\n",
              "function* uploadFilesStep(inputId, outputId) {\n",
              "  const inputElement = document.getElementById(inputId);\n",
              "  inputElement.disabled = false;\n",
              "\n",
              "  const outputElement = document.getElementById(outputId);\n",
              "  outputElement.innerHTML = '';\n",
              "\n",
              "  const pickedPromise = new Promise((resolve) => {\n",
              "    inputElement.addEventListener('change', (e) => {\n",
              "      resolve(e.target.files);\n",
              "    });\n",
              "  });\n",
              "\n",
              "  const cancel = document.createElement('button');\n",
              "  inputElement.parentElement.appendChild(cancel);\n",
              "  cancel.textContent = 'Cancel upload';\n",
              "  const cancelPromise = new Promise((resolve) => {\n",
              "    cancel.onclick = () => {\n",
              "      resolve(null);\n",
              "    };\n",
              "  });\n",
              "\n",
              "  // Wait for the user to pick the files.\n",
              "  const files = yield {\n",
              "    promise: Promise.race([pickedPromise, cancelPromise]),\n",
              "    response: {\n",
              "      action: 'starting',\n",
              "    }\n",
              "  };\n",
              "\n",
              "  cancel.remove();\n",
              "\n",
              "  // Disable the input element since further picks are not allowed.\n",
              "  inputElement.disabled = true;\n",
              "\n",
              "  if (!files) {\n",
              "    return {\n",
              "      response: {\n",
              "        action: 'complete',\n",
              "      }\n",
              "    };\n",
              "  }\n",
              "\n",
              "  for (const file of files) {\n",
              "    const li = document.createElement('li');\n",
              "    li.append(span(file.name, {fontWeight: 'bold'}));\n",
              "    li.append(span(\n",
              "        `(${file.type || 'n/a'}) - ${file.size} bytes, ` +\n",
              "        `last modified: ${\n",
              "            file.lastModifiedDate ? file.lastModifiedDate.toLocaleDateString() :\n",
              "                                    'n/a'} - `));\n",
              "    const percent = span('0% done');\n",
              "    li.appendChild(percent);\n",
              "\n",
              "    outputElement.appendChild(li);\n",
              "\n",
              "    const fileDataPromise = new Promise((resolve) => {\n",
              "      const reader = new FileReader();\n",
              "      reader.onload = (e) => {\n",
              "        resolve(e.target.result);\n",
              "      };\n",
              "      reader.readAsArrayBuffer(file);\n",
              "    });\n",
              "    // Wait for the data to be ready.\n",
              "    let fileData = yield {\n",
              "      promise: fileDataPromise,\n",
              "      response: {\n",
              "        action: 'continue',\n",
              "      }\n",
              "    };\n",
              "\n",
              "    // Use a chunked sending to avoid message size limits. See b/62115660.\n",
              "    let position = 0;\n",
              "    do {\n",
              "      const length = Math.min(fileData.byteLength - position, MAX_PAYLOAD_SIZE);\n",
              "      const chunk = new Uint8Array(fileData, position, length);\n",
              "      position += length;\n",
              "\n",
              "      const base64 = btoa(String.fromCharCode.apply(null, chunk));\n",
              "      yield {\n",
              "        response: {\n",
              "          action: 'append',\n",
              "          file: file.name,\n",
              "          data: base64,\n",
              "        },\n",
              "      };\n",
              "\n",
              "      let percentDone = fileData.byteLength === 0 ?\n",
              "          100 :\n",
              "          Math.round((position / fileData.byteLength) * 100);\n",
              "      percent.textContent = `${percentDone}% done`;\n",
              "\n",
              "    } while (position < fileData.byteLength);\n",
              "  }\n",
              "\n",
              "  // All done.\n",
              "  yield {\n",
              "    response: {\n",
              "      action: 'complete',\n",
              "    }\n",
              "  };\n",
              "}\n",
              "\n",
              "scope.google = scope.google || {};\n",
              "scope.google.colab = scope.google.colab || {};\n",
              "scope.google.colab._files = {\n",
              "  _uploadFiles,\n",
              "  _uploadFilesContinue,\n",
              "};\n",
              "})(self);\n",
              "</script> "
            ]
          },
          "metadata": {}
        },
        {
          "output_type": "stream",
          "name": "stdout",
          "text": [
            "Saving JohnDoeResume.docx to JohnDoeResume (2).docx\n",
            "{'JohnDoeResume (2).docx': b'PK\\x03\\x04\\x14\\x00\\x08\\x08\\x08\\x00Y\\xb3\\x19[\\x00\\x00\\x00\\x00\\x00\\x00\\x00\\x00\\x00\\x00\\x00\\x00\\x12\\x00\\x00\\x00word/numbering.xml\\xed\\x99\\xcb\\x8e\\xda0\\x14\\x86\\x9f\\xa0\\xef\\x80\\xb2\\x07\\'\\x01\\x02E\\x13f\\xd1\\xd1T\\xad\\xaa\\xaaRg\\x1e\\xc08\\x86X\\xf8\\x12\\xd9\\x0e\\x97g\\xe8\\xa2\\xbbv\\xdbg\\xeb\\x93\\xd4\\xb9r\\xebL\\x03%b\\xe3\\x95\\xc9\\xb9|\\xf61\\'\\xe7\\x97\\xe0\\xee~\\xc3hg\\x85\\xa5\"\\x82\\x87\\x8e\\xd7s\\x9d\\x0e\\xe6HD\\x84/B\\xe7\\xf9\\xe9\\xb1;v:JC\\x1eA*8\\x0e\\x9d-V\\xce\\xfd\\xf4\\xcd\\xddz\\xc2S6\\xc3\\xd2\\xc4u\\x0c\\x82\\xab\\tC\\xa1\\x13k\\x9dL\\x00P(\\xc6\\x0c\\xaa\\x9eH07\\xce\\xb9\\x90\\x0cj\\xf3(\\x17\\x80A\\xb9L\\x93.\\x12,\\x81\\x9a\\xcc\\x08%z\\x0b|\\xd7\\r\\x9c\\x12#B\\'\\x95|R\"\\xba\\x8c )\\x94\\x98\\xeb,e\"\\xe6s\\x82p\\xb9T\\x19\\xb2\\xc9\\xbeE\\xca\\x83@)\\xc3\\\\\\xe7;\\x02\\x89\\xa99\\x83\\xe0*&\\x89\\xaah\\xecR\\x9aq\\xc6\\x15d\\xf5Z\\x11+F\\xab\\xb8u\\xd2d\\xb7H\\xc2\\xb5\\xb9gF\\x8b\\x8d\\xd6BF\\x89\\x14\\x08+e\\xac\\x0f\\x85\\xb3&zn\\x83\\x0b\\xcc\\x10uF\\x93#\\x1c\\xeeY\\x9d\\x84A\\xc2kL\\xd6\\x1dG\\xa0z\\xef\\x9e\\xd9\\xbb\\xbc\\xb4\\x1c\\xb5+dw\\x17\\x8a69H\\xe1\\xfaDf\\x12\\xca\\xed\\xe9)\\xe0\\x05\\xf7\\xb9\\x9f\\x9f\\x90F]|D0Y:\\x95uC^\\x82@1\\x94\\xba\\x02\\xd0K\\x08T\\xa0%\\x8e\\xdeA\\xbe\\x82u3G\\x8bF\\xed|D\\x8a\\x08\\\\H\\xc8vM\\xaa\\xce\\xfaf=\\xf7\\xa8]\\xbe\\xc60\\xc1;\\xda\\xe2\\xffh\\xef\\xa5H\\x93]\\xbb\\x0f.\\xa1\\xed\\xbd\\x81\\xde\\xf0<\\x80\\x7f\\x02\\x08\\xce\\x03\\x8cO\\x01\\x08o.c\\x00\\x93\\xb9\\xcf!\\xd1y\\x9c\\xa0\\xe6\\x90j\\x1e4\\x03h\\xa8\\x96*#\\xbc\\x05Q9\\x05sS\\xfd\\n\\x9c\\x0e\\xe5\\xbfr\\xcc\\xc7,7C\\xf9\\xae\\x19\\xc8\\x10\\xe5\\x03\\xd9\\x99\\x1a\\x81\\x813\\xa5\\xa51|NY\\xe7\\xe0\\xe9\\x83\\xa9\\xd2\\xcbC\\xe8\\x8a\\x1a\\x171K\\xe8\\xb8\\xb9\\xc5h\\x95\\xd4\\xc6\\xb6\\x824\\x0b\\x02\\xd3B\\xa9\\x1eYm\\x9c\\xa5\\x94b]xL\\xe2\\x13\\xde\\xd4\\xae\\xdf?\\xbf\\xd7\\xf6\\x8f\\xa8\\xb2R</\\xc3\\x93/2[\\x08\\x8f\\x8c/3\\x87\\xce\\xc87\\x8a\\xb9\\x9e\\xc4\\x90/r\\xc9\\xec\\x07n\\x16\\x0b\\xea`Y,iE\\xe3FF\\xcb\\x88\\xdc\\x05\\xf2\\xdd\\x8e\\x8b\\xf1\\xaeQ\\xcc\\xb7s\\x8b\\xf1\\x06\\x83V\\xaa\\xf1\\xafP\\xcd\\x8f_\\xe7V\\xe3{A+\\xd5\\xf4o\\xd2h\\xfex\\xdcJ5\\x83\\x9bt\\x9a9|+\\xd5\\x0co\\xd2i\\x83~;S \\xb8I\\xa7\\r\\xddv\\xa6\\xc0\\xe8&\\x9d6\\x1c\\xb53\\x05\\xc67\\xe9\\xb4`p\\xad)\\x00\\x0e$\\xf5\\x9fz\\xeb[\\xbd\\xb5zk\\xf5\\xd6\\xea\\xad\\xd5[\\xab\\xb7Vo[\\xd7\\xdb\\xbe\\xd5[\\xab\\xb7Vo\\xad\\xdeZ\\xbd\\xb5zk\\xf5\\xf6\\x1az\\xcbs\\x9d\\xe5\\xfb\\xbf\\x1f\\x1f\\x88\\xeeA\\x99 \\x8f<I\\xf3_N\\xf3_I\\xeb\\xbf\\x9c\\xd6\\xdfO\\x03{\\x7f\\xabN\\xff\\x00PK\\x07\\x08$\\xc3\\xb76\\xc2\\x02\\x00\\x00\\x9c\\x1d\\x00\\x00PK\\x03\\x04\\x14\\x00\\x08\\x08\\x08\\x00Y\\xb3\\x19[\\x00\\x00\\x00\\x00\\x00\\x00\\x00\\x00\\x00\\x00\\x00\\x00\\x11\\x00\\x00\\x00word/settings.xml\\xa5\\x96\\xdbr\\x9b0\\x10\\x86\\x9f\\xa0\\xef\\xe0\\xd1\\xbd\\xc3!\\xb6\\x9b0\\xc1\\xb9h\\xa6\\xedEs\\xe5\\xf4\\x01dI\\x80\\xc6:\\x8d$L\\xfc\\xf6\\x95\\x00\\x81\\x0f\\x9d\\x0e\\xa6W\\x96\\xfe\\xd5~+\\xd6\\xcb./\\xaf\\x9f\\x9c-\\x8eD\\x1b*E\\x0e\\x92\\x87\\x18,\\x88@\\x12SQ\\xe6\\xe0\\xf7\\xc7\\xf7\\xe5\\x13X\\x18\\x0b\\x05\\x86L\\n\\x92\\x83\\x131\\xe0u\\xfb\\xe5\\xa5\\xc9\\x0c\\xb1\\xd6\\x9d2\\x0bG\\x10&\\xe3(\\x07\\x95\\xb5*\\x8b\"\\x83*\\xc2\\xa1y\\x90\\x8a\\x08g,\\xa4\\xe6\\xd0\\xba\\xad.#\\x0e\\xf5\\xa1VK$\\xb9\\x82\\x96\\xee)\\xa3\\xf6\\x14\\xa5q\\xbc\\x01=F\\xe6\\xa0\\xd6\"\\xeb\\x11KN\\x91\\x96F\\x16\\xd6\\xbbd\\xb2((\"\\xfdO\\xf0\\xd0S\\xe2v.o\\x12\\xd5\\x9c\\x08\\xdbF\\x8c4a\\xee\\x0eR\\x98\\x8a*\\x13h|.\\xcd\\x19\\xab\\x009\\xfe\\xeb!\\x8e\\x9c\\x85s\\x8d\\x9a\\x12\\rk\\xd8\\xb8Ds\\xd6\\x05j\\xa4\\xc6JKD\\x8cq\\xea[g\\x1c\\x88I<!\\x81\\x1e1xL\\xb9\\xc2e\\xccp\\x13\\x0e\\xa9\\x180\\xbe8\\xae@C\\xec\\x07\\x17\\xbbOZ\\x8b\\x1a\\x1fd\\xcc\\x85aS.\\xd2\\x99~\\xd1\\xbd\\x86\\xfat{\\x0b8#\\x9f\\xe7\\xfe\\x8aN\\xaa\\xe2+\\x82\\xf3\\xb2\\xb5\\x1e\\nr\\x0e\\x02UP\\xdb\\x00`s\\x08L\\xa2\\x03\\xc1\\xdf\\xa08\\xc2\\xa1\\x98q9\\xa9\\x9c\\xafH\\x98\\xc2RC>\\x16\\xa9\\xb9\\xeb\\x9fM\\xe2\\xabr\\xd9UP\\x91\\x91V\\xfe\\x1f\\xed\\x87\\x96\\xb5\\x1a\\xcb}5\\x87v\\xf6\\x06&\\xeb\\xfb\\x00\\xe9\\r`s\\x1f\\xe0\\xe9\\x16\\x80\\xc8\\xe7<F\\xe4<\\xcf9\\x14\\xdf\\xc7\\xd9\\x0c\\x1c\\x1a\\xfa\\xc14\\x80\\x85\\xe6`<\\xe19\\xc2}\\x17l\\xa5\\xe1\\x15\\xb8m\\xca\\x7f\\xe5\\xb8\\xa5\\xf7\\xf5\\xa84v\\r\\x19\\xa2\\xb6!\\x83\\xad\\x9b/\\x98\\x14\\xb0f\\xf6\\x03\\xeewV\\xaaE\\x93\\x1d\\xa1k\\x11_\\xd3\\x18D\\xde\\xdc\\x8d\\x90q\\xb5\\xeb\\xc6Q8\\x97\\xac\\x81[\\n\\xc8][\\xba\\x986\\xef\\x12\\x13o\\xaa5\\x9d\\x9e,\\x1f2\\xba\\x88\\xc9\\xf4\\xce;\\x91w\\xa8T\\x17v_&9`\\xb4\\xacl\\xe2\\xf9\\xd6\\xed\\xb0\\x9bv\\xedf_\\xa6\\xbd-mmigk7\\x10!\\x97\\x02w\\xba_\\x8cZ\\x1a\\xb4\\xb3s\\x8fA{\\x1c\\xb5U\\xd0V\\xa3\\xb6\\x0e\\xdaz\\xd46A\\xdbx\\xad:)\\xa2\\x19\\x15\\x07\\x97\\x86\\xb0\\xf4z!\\x19\\x93\\r\\xc1?G\\xfb\\x8d\\xd4\\xe7#|\\x02l\\xff\\x00PK\\x07\\x08D=\\xb5S@\\x02\\x00\\x00G\\x08\\x00\\x00PK\\x03\\x04\\x14\\x00\\x08\\x08\\x08\\x00Y\\xb3\\x19[\\x00\\x00\\x00\\x00\\x00\\x00\\x00\\x00\\x00\\x00\\x00\\x00\\x12\\x00\\x00\\x00word/fontTable.xml\\xa5\\x95Kn\\xdb0\\x10\\x86O\\xd0;\\x08\\xdc\\xdb\\x94\\x8d\\xd4H\\x05\\xcbA\\xd1 \\xddt\\xd7\\xf6\\x00\\x13\\x92\\x92\\x08\\xf3\\x85!e\\xc5\\xb7/e\\xeb\\xe1\\xdaA ++I\\x1c\\xfd\\xdf\\x0c\\xc9\\x9f\\xc3\\xed\\xd3\\x9bV\\xc9A\\xa0\\x97\\xd6\\xe4d\\xb5LI\"\\x0c\\xb3\\\\\\x9a2\\'\\x7f\\xff\\xbc,\\x1eI\\xe2\\x03\\x18\\x0e\\xca\\x1a\\x91\\x93\\xa3\\xf0\\xe4i\\xf7e\\xdbd\\x855\\xc1\\'Qn|\\xa6YN\\xaa\\x10\\\\F\\xa9g\\x95\\xd0\\xe0\\x97\\xd6\\t\\x13\\x83\\x85E\\r!~bI5\\xe0\\xbev\\x0bf\\xb5\\x83 _\\xa5\\x92\\xe1H\\xd7i\\xba!\\x1d\\xc6\\xe6\\xa4F\\x93u\\x88\\x85\\x96\\x0c\\xad\\xb7Eh%\\x99-\\n\\xc9D\\xf7\\xe8\\x158%\\xefY\\xf2lY\\xad\\x85\\t\\xa7\\x8c\\x14\\x85\\x8a5X\\xe3+\\xe9|O\\xd3si1X\\xf5\\x90\\xc3G\\x938h\\xd5\\xff\\xd7\\xb8)\\xd98B\\x13\\xf7B\\xabs\\xa2\\xc6\"wh\\x99\\xf0>\\x8e>\\x9f\\x83\\x03q\\x95NX\\xc0\\x161(\\xa6\\x94\\xf0\\x7f\\xce\\xbe\\x12\\r\\xd2\\x0c\\x98\\xd6\\x19W\\xa0!\\xf72\\xe6\\xee\\x16\\xed\\x84\\x1a\\'2\\xae\\x85WS\\n9\\x87~\\xc9W\\x04<\\xdeV\\x013\\xd6\\xf3R\\xef\\xe4$\\x17_\\x11\\xa2*\\xd48\\x18r\\x0e\\x82U\\x80\\xa1\\x07\\xa89\\x04e\\xd9^\\xf0\\x1f`\\x0e0\\x98\\x99\\x97\\x93\\xec|E\\xe2\\x12J\\x04=\\x9a\\xd4\\xdf\\xb5\\xb3\\xab\\xf4\\xca.\\xbf+pb\\xa4\\x95\\x9f\\xa3\\xfdD[\\xbb\\xd1\\xee\\x0fsh\\x17\\'p\\xf5\\xf5>\\xc0\\xfa\\x06\\xb0\\xb9\\x0f\\xf0x\\x0b`\\xe2m\\x1e\\x83F\\xe5%G\\xf2\\xfb8\\x9b\\x81#\\xfb~0\\r\\x10\\xc0\\xef}K\\xf8Fy\\xd7\\x05OC\\xc3\\x11\\xb8m\\xca\\xefr\\xe2k\\xabmQ\\xeb46d`\\xa7\\x86Lv\\xdd\\xe5\\x924\\x99\\x01\\x1d;\\xcbw\\x94\\xa0\\x08\\xddmiw\\xeb\\xec\\xfe\\x01PK\\x07\\x08\\xa0c\\x9cu\\xb7\\x01\\x00\\x00\\xb7\\x06\\x00\\x00PK\\x03\\x04\\x14\\x00\\x08\\x08\\x08\\x00Y\\xb3\\x19[\\x00\\x00\\x00\\x00\\x00\\x00\\x00\\x00\\x00\\x00\\x00\\x00\\x0f\\x00\\x00\\x00word/styles.xml\\xdd\\x97\\xedn\\xda0\\x14\\x86\\xaf`\\xf7\\x80\\xf2\\xbfM\\x08!c\\xa8\\xb4\\xea\\x87\\xbaM\\xaa\\xbai\\xed.\\xe0\\xe0\\x18b\\x91\\xd8\\x96\\xed@\\xd9\\xd5\\xcf\\xce\\x17!\\tUH\\x91\\xd6\\x0e~\\x10\\x1f\\xfb<\\xc7~}|b.\\xae^\\xe2h\\xb0\\xc6B\\x12Fg\\xd6\\xf0\\xdc\\xb1\\x06\\x98\"\\x16\\x10\\xba\\x9cY\\xbf\\x9f\\xef\\xcf&\\xd6@*\\xa0\\x01D\\x8c\\xe2\\x99\\xb5\\xc5\\xd2\\xba\\xba\\xfct\\xb1\\x99J\\xb5\\x8d\\xb0\\x1ch\\x7f*\\xa71\\x9aY\\xa1R|j\\xdb\\x12\\x858\\x06y\\xce8\\xa6\\xbas\\xc1D\\x0cJ7\\xc5\\xd2\\x8eA\\xac\\x12~\\x86X\\xccA\\x919\\x89\\x88\\xda\\xda\\xae\\xe3\\xf8V\\x8ea3+\\x11t\\x9a#\\xceb\\x82\\x04\\x93l\\xa1\\x8c\\xcb\\x94-\\x16\\x04\\xe1\\xfc\\xa7\\xf0\\x10]\\xe2f.w\\x0c%1\\xa6*\\x8dh\\x0b\\x1c\\xe990*C\\xc2eA\\x8b\\xfb\\xd2tgX@\\xd6\\xaf-b\\x1dG\\xc5\\xb8\\r\\xef\\x12-\\x10\\xb0\\xd1\\x9b\\x11GY\\xa0\\r\\x13\\x01\\x17\\x0ca)\\xb5\\xf5.\\xeb,\\x89C\\xa7\\x83\\x80\\x06Qzt\\x99\\xc2~\\xccb&1\\x10ZbLj\\xd4@e\\xecs\\x1d;\\x17-E\\xed\\x16\\xb2\\xd3BF]&\\x92u=\\x90\\xb9\\x00\\xb1m\\xce\\x02z\\xe8Y\\xf5\\xe7\\xa4S\\x16\\xd7\\x08\\xdaK%\\xa2L\\xc8>\\x08\\x14\\x82P\\x05 \\xeaC\\x88\\x18Z\\xe1\\xe0\\x16\\xe8\\x1a\\xcad\\x0e\\x96\\x9d\\xd2\\xb9F\\n\\x08,\\x05\\xc4\\xbb$\\x95G\\xed\\xec\\xd0\\xa9\\xa5\\xcbS\\x08\\x1c\\xefh\\xcb\\xb7\\xd1\\xbe\\n\\x96\\xf0]\\xba{}h\\x95\\x138\\x1c\\x1f\\x07p\\x1b\\x00\\xff8\\xc0\\xa4\\t@\\xf8\\xa5\\x1f\\xc3\\xd6\\x9eU\\x0e\\t\\x8e\\xe3\\xf8%\\x87\\x14\\xf5\\xa0\\x1b@\\x81\\\\IC\\xf8b\\x07y\\x15LM\\xe5\\x11h\\x16\\xe5V\\x8e~4\\xbe\\x06\\xe5:\\xba \\x03J\\x0b\\xb2u\\xa9\\xdf.\\x1a|\\x87\\x17\\x90DJ\\x9a\\xa6\\xf8)\\xf2f\\xdeJ\\x7f\\xee\\x99\\xf6\\x1el\\xa6 \\x11!3\\xebZ\\x10\\xd0\\xcan\\xa6HV\\x1a\\x18\\xa4\\xba\\x96\\x04*\\xa6\\xf0\\x9a\\xcar\\xbcmP\\xf2\\x8f6\\xafAW!\\xd7-,\\xb7\\xb2n\\x8b\\x80.\\x0b\\x1b\\xa6\\xc6f\\xe7\\x93\\xb1\\xebS\\xe4\\xf5V\\xca\\xe4\\x80H\\x8a\\x88\\x88\\xa9\\x98\\xeeg\\xdf\\xca\\x1b\\xbf\\x92H\\x1b Q,\\xc7\\xf2\\x1c[\\x05\\xd9\\r]\\xd2\\x97\\xb0F\\xa8-\\xd7\\xee\\x1c\\x849\\xbc<4\\xd4\\xb4\\xeb\\xbb\\xce\\x89Gs\\xd8\\xd3u\\x07\\x99\\xa7~\\xcf\\xa7\\x1aS\\x88q\\xb1\\x1c\\x9a\\r\\xcab\\xa7\\xaeM\\xbc\\x82y\\x84\\xf7\\xd0\\xcf\\xc6\\xd2\\x89_\\x1d\\xf9j\\x90\\xf65|\\xc3`\\xae$Mn\\x98u\\x0c\\x86\\xd9\\x0e\\xcdA\\xe2\\xe0\\x07-zw\\x01\\xb5\\x17~Qm\\xf6|oV\\x18\\xf3\\xc7\\xca\\x90\\x1ch\\xcc\\x0fz\\x7fd\\xcd\\xcea\\x89ot\\xca\\xaen\\xb0.\\xa6\\xe5t\\x9c<y\\xca\\x8d\\x86\\x85\\xc2\\xfa8\\x0c]\\xc7\\xacg\\x9e\\x0e\\x9eY\\x9e\\xe3\\xbc\\xbe\\xf1e\\x8e\\xef\\x12\\xd3s\\x9a\\x89\\x99\\xd9*I\\xd8GT\\xf7\\xa0\\xa8\\xee\\x87\\x12u\\xe4w\\x15u^\\'\\x97\"\\x8fZN\\x7ff{\\xa3\\xc8\\xa3\\x83\"\\x8f\\xde\\xb7\\xc8\\x93}\\x8d\\xdd\\xbe\\x1a#\\x161Q\\xe6\\xed\\xc8|\\x1b\\xa5w\\xd2Rz\\'\\'\\x10\\xdf;(\\xbe\\xf7\\x91\\xc4w\\']\\xc5\\xdf\\x13\\xdbO?\\r\\xb1\\xbd\\x16\\xb1\\xbd\\x13\\x88=>(\\xf6\\xf8C\\x89\\xed\\x9dR\\xec\\x83\\x97\\x8a7\\x8a\\xed\\x1f\\x14\\xdb\\xff?\\xc5&\\xb5\\xb0\\xffD\\xfcg\\xa2\\xf4E\\xa8q\\xc5I\\xad\\xefZu\\x7fO\\xf5\\xe3\\xef \\xe3\\x16)\\xc7o\\x92\\xf2)\\x99\\xabV5\\xcb\\x8ew-\\xe8\\xc8\\xed\\xa5\\xe8\\t\\xff\\xb9\\x90\\xda\\x14;\\x1c\\x88Q\\xcbMrt\\xe0&Y<\\xc9\\xcb\\xbfPK\\x07\\x08\\x8bxM]c\\x03\\x00\\x00+\\x14\\x00\\x00PK\\x03\\x04\\x14\\x00\\x08\\x08\\x08\\x00Y\\xb3\\x19[\\x00\\x00\\x00\\x00\\x00\\x00\\x00\\x00\\x00\\x00\\x00\\x00\\x11\\x00\\x00\\x00word/document.xml\\xed\\\\\\xebr\"7\\x16~\\x82}\\x07\\x15\\xc9l\\xcdT0\\xd0\\\\l\\x86\\x0c\\xceb`&\\x93\\xb5c\\x1785?\\xb7D\\xb7\\xe8\\xd6\\xd0-u$5\\x98T~\\xe4\\x1d\\x92\\'\\xcc\\x93\\xec\\x91\\xfa\\x02\\x18\\xdb\\x8b\\x19{M3\\x8c\\xab\\x06Z-\\x1dIG\\x9f\\xbes\\x91\\xecw?\\xdc\\x04>\\x9a\\x12!)g\\xed\\x82U\\xaa\\x14\\x10a6w(s\\xdb\\x85_\\xae\\xdf\\x1f5\\x0bH*\\xcc\\x1c\\xecsF\\xda\\x859\\x91\\x85\\x1fN\\xff\\xf1n\\xd6r\\xb8\\x1d\\x05\\x84)\\x04\\x12\\x98l\\x05v\\xbb\\xe0)\\x15\\xb6\\xcaei{$\\xc0\\xb2\\xc4C\\xc2\\xe0\\xe5\\x98\\x8b\\x00+x\\x14n9\\xc0b\\x12\\x85G6\\x0fB\\xac\\xe8\\x88\\xfaT\\xcd\\xcb\\xd5J\\xe5\\xb8\\x90\\x88\\xe1\\xedB$X+\\x11q\\x14P[p\\xc9\\xc7J7i\\xf1\\xf1\\x98\\xda$\\xf9H[\\x88M\\xfa\\x8d\\x9b\\xf4\\x92!\\x9b\\x1e\\xcb\\x82\\xf80\\x06\\xce\\xa4GC\\x99J\\x0b\\xb6\\x95\\x06/\\xbdT\\xc8\\xf4\\xa1IL\\x03?\\xad7\\x0b7\\xe9\\xcd\\x11x\\x06\\xcb\\x11\\xf8qG3.\\x9cPp\\x9bH\\t\\xa5\\xbd\\xf8e&\\xd1\\xaal\\xa0@-\"k\\xb1\\xc9\\x10V\\xfbLG\\x12`\\xca21\\x1a\\x1c\\xb7\\x04e}\\x97\\xa0\\xefDiF\\xd4b\"\\x0b]H\\x7f\\x93\\x81\\xc4\\xaf\\xce\\xe9H`1_\\x1f\\x05\\xdeB\\x9f\\xcb\\xedC\\xba\\x11\\x8aoI\\x80V*\\x12\\x19 \\xb7\\x11a{X\\xa8T\\x80\\xbf\\x8d\\x04\\x9f\\xdb\\x13\\xe2t1\\x9b\\xe2\\x0c\\xcc\\x8e\\xbb\\x11\\x9coIr(v\\x05\\x0e\\x16 \\x95\\x8fZY\\xabr\\x0b.C\\x0f\\x87d!\\xcd\\xfd2i\\x1f\\x04\\x8f\\xc2\\x05\\xdc\\xeb\\xdbH[\\xda\\x81V\\xe3q\\x02\\xaak\\x02\\x8e\\x1f\\'\\xa0\\xb9.\\xc0&7\\xdb\\xc9(C\\xcbe9\\xd4y\\x9c\\x9c\\xe3L\\x0eM\\xf9`3\\x01\\n\\xcb\\x89\\xd4\\x12\\xde\\x96S3`\\x8a\\xb2-\\xb0N\\xcaw\\xca\\x81\\xaf\\xba\\xad\\x16U\\xad\\x00!c\\xdb\\x10r\\xe1\\x14\\xec\\xcb\\x88;s\\xfd\\x19\\xa2Y\\x0b\\xcc\\x933h\\x17*\\xc9\\xbfBR\\xd4#\\xfez\\xe1\\xd5z\\xd1\\xa0G\\xc68\\xf2\\xd5\\x1do\\xae\\xc4J\\xa1Uo\\x85X\\xe0\\x8fNVj\\x99\\xc1\\x84WB\\x7f\\x88+Q>}W^<?4\\x90;\\x06\\xbc\\xda\\x9d\\x11\\x0c\\xdcq\\xfan\\xda\\x12\\xc4V`h\\xe7>\\xd0\\xe8\\x8c:\\xcakUJ\\x95P}\\xef\\x11\\xeaz\\xaae\\x95\\x1a!\\xf0\\x03oy  \\xf9\"\\x95\\x93}\\xc7>u\\xc1~\\xdb\\xa0L\"\\nhL}\\xdf\\xe6>\\x87\\xca\\xdft*\\xfaG[q\\xc1\\x81!\\xda\\x85q!\\x99\\x83\\xe9\\x1a\\xbe<\\xd1TD\\xa2\\x13\\xe5C\\x95)\\xd6b\\x92\\x9e\\xcc\\x9b\\xb8#\\xdd\\xef\\x0e\\xacjuyUe\\x88m`\\x16h\\x8c\\xc7\\xa0\\xbev\\xa1Z7\\xa2F\\x04X\\x92d\\x8f>ed\\x10\\xe9\\x05\\xc2\\x91\\xe2zj\\xcf\\x01\\x88D\\x8b\\xa3T\\x87V\\xd2\\xd1=Z\\x9d\\xb5\\x8c\\x03f\\xe6\\x00#\\x0b\\x05\\x91DLI\\xe1\\xf4\\'\\xee1\\xd4\\xe3D\\xd7TF\\xa2\\x1e\\x9b\\x9a\\x87PK\\x91\\x1b\\xf5I\\xe00\\xd4\\x9eC\\xf9\\xff\\x88\\x81{G\\x8b\\x86\\x04+\\xe5\\x93\"\\xfa\\xd4A\\xbf\\xa3\\xcf0\\xf8\\x92\\xc3\\xc9\\xbf\\x80:\\xa8\\xaf\\x19\\x03\\n_[\\xd5\\xda\\x1bTo\\x1c\\x1f\\x9d4\\xdfV\\xa0\\x00\\x16\\x04\\x00M\\x99a\\x14\\xca\\xca\\xba\\x95\\x93\\xcdx\\xa7\\xf0V;\\xb0\\xc8\\x1e\\xb2H}yU\\xc3\\xa1\\xd6{:\\xe8\\x1f\\t\\xd61T-\\xde\\xbd\\x13B\\xc2\\x9fa\\xd3\\xadL).>\\x07V\\x91\\xb7\\xca\\x17\\x84\\x94QP\\xf3!\\n\\xba\\x8b0\\xcc\\xc2er\\xe39\\xc4\\xc2\\x7fKK\\xab\\xc7iIW\\xae\\x96-i;\\x99\\xdd\\x88\\xf3\\x89\\x0e\\xde\\x86\\n\\x1cUd\\xc4\\xbf\\xa7\\x00\\x1e=\\xe6\\xf8\\xf1\\x1cgO\\x0c\\x070\\xc4\\xffTO\\xc2\\xcf7\\x96\\xc7\\xea\\r\\xcb\\xd2\\xc5\\xda=I\\x06\\x91\\x8a\\xeb3g\\xf5\\xc5\\xb3\\x11\\xe8\\x17\\xe9c\\x0bF\\xbb\\x12|\\xac=V\\xce\\xb0\\x8f\\x86Q\\x00\\xb3\\x9d\\xef\"35v\\xdd\\x12>Z\\xf3\\x03\"A\\x17\\xf2\\xc8\\x11tJ\\x18\\xd20#J\\xcfJ\\x86\\xc4\\xa6\\xc0q\\x12\\x00L\\x95\\x87\\x1a\\xdf\\xa19\\xc1B\">F\\xe4&$\\x82\\x12f\\x13D\\x19r\\xa8K\\x15\\xac[\\xd6\\xb6\\x88\\x86\\xfdK\\xfd\\xdfE\\x11\\x85\\x98:HBC\\xdbC6\\x0e\\xe0\\xd1e\\xb2\\x88\\xba\\x83\\x0b\\xa8\\xcf\\xb0K\\xb4K[D\\x18\\xa0\\xad]^y4\\x8e\\x98\\xf1kA \\xa0\\xd0\\xc7#.L\\xe2\\xa1\\x84\\x00$z\\x888N\\x84 \\xc5\\xa1s\\x1b\\xdc`\\t<BF\\x92*\\x82\\x94\\xc0\\xdaW.\"\\x1a\\x84\\xba6\\x88`I\\xbe\\x06\\x81\\x18\"\\xe3\\x9ex\\xa8h@\\x7f#K\\xd3\\xcd\\xc6\\xa6\\xe5:\\xc4\\x07m\\x08\\xe4\\x81!@\\x83\\xcb\\x8f\\xa5]\\xc4\\xe2\\xf1\\xc1J\\xee\\xa1\\x95<9X\\xc9\\x87\\xac\\xa4\\x1b\\xf9\\xb3\\x9b\\xfa\\xc8\\x9e\\xdcP\\x99ZI\\xeb>+i\\xed\\x99\\x95\\xfc\\xc4\\xc5\\x04\\xf53\\xee\\xddERj>\\x9d\\x81\\xd4\\x1ftE\\xe3\\xeb\\x10\\xda\\x9d\\x08\\xf2\"\\xb3$\\xc3\\xccp\\xe6$\\x9a\\xec\\xd8\\x01A\\xd7\\x04\\x0c\\xf4\\x90\\xfb\\x91\\xc9)\\x15\\x97C\\xccM\\xa6q\\xbf\\xf4\\x15\\x94>\\xe1<\\xe9\\x97\\xae\\xd8O\\x98\\xa1j\\xa5j\\xa1\\xbf\\xff\\xf8\\x13|\\x0b(fj\\x17\\xb7\\xd4\\xdb\\xe5-\\xc5\\xa2 \\x99\\xbe?]\\x9d\\xafy\\xf7\\xd1\\xb9\\xbda\\xb2\\x06k\\x9b\\xd1\\x0c\\xc1|\\xef\\xc0\\xb6K^\\'\\xc5\\x1b\\xecPjh\\xd6\\'c\\x98\\xd4I\\xd5T\\xf30s\\x8d\\x8c\\xdaq\\xba\\x04/\\xee\\xdf\\x9e\\x13G{\\xa3\\xda\\xc9\\x00\\xff\\xcf\\x9d#a\\x1c^\\xad\\tp]1\\xaaW^-\\xdcH(\\xe1\\xc2\\xc5\\x8c\\xda\\xa9\\'i|_]\\xcc\\x88q\\x7fK\\x9b\\xef\\xe9\\x1d\\x81O\\xe7\\x05\\xe1\\xb3\\xf4\\xb0^)\\xc7\\xa0\\xba0\\x91\\x8b\\x83>p\\xee\\x82\\x7f\\xd6q\\xe4R\\xfc`\\xa2%\\x8c\\xbe\\xb5*\\x95\"t\\x84\\x02\\xce\\x94\\xe7\\xcf\\xd1(r\\\\\\xa2C\\x1d\\xdb\\xa3d\\xaau\\x89\\x81\\x7f^\\xa5\\xa1\\x8a9\\x1d\\x06\\xa4\\t\\xa2\"\\xa1\\x01\\x87\\xb0\\xa3\\x830\\xd0\\xc8\\xeb\\xc1eg\\xf8&\\x7f\\xd0;;@\\xef\\xc9\\xa1\\xd7#S\\xe2\\xf3\\x10\\xc0\\x07\\xa1\\xad\\xd2\\x98Y\\n\\xd9c\\x8e\\xa3\\xe0\\xfc+\\x0f+\\x04\\x1e\\xb1TP\\xd3\\x87\\xc0\\x01\\xb9\\x84\\x918\\x92F\\xa39\\xaa5^\\xe5\\x0fO\\xddg\\xc2\\xd3-\\xb7t_\\xa1\\xd3\\xcd\\xd2)\\x80\\t\\xc3R\\x12\\xfb\\x80\\x15\\x9d\\x11\\x01\\nr\"\\x08\\xf4\\x15\\xc1\\x81\\xd4\\xe4\\xe3\\xf2#\\xc5\\x8fbl-\\x03\\x0b\\xb4\\x82\\x18\\x99\\xa11\\xf8\\x87\\x91 \\xc8\\xc7\\x11\\xb3=\"\\xf3\\x87\\xa6\\xde\\xd7\\x1a\\xaa\\xf4\\x92|\\xdd\"d\\xe9r.\\x1c\\xca\\xb0\\xe2\"\\'1\\xcb\\x99\\xd0\\xd9\\xa7OxJ\\x16\\xd3(\\xa2\\x01\\t\\xb8\\xda\\xe8\\x10/\\x8f\\xf1J\\xa4\\xe3\\x15\\xabi\\xe2\\x95\\x1e\\xb1u\\xf0R\\xd9\\xc5\\x80\\xa5\\xbf\\x15MW\\x0f\\x01K\\xcc\\xd2\\x10\\x8ah\\x82\\xd6\\xac\\x1c$~\\xa6\\xc2\\x02\\\\G\\xf8bNx\\xef\\xccZG\\xfa\\xba\\x0f\\xfa1\\x1a\\rC\\xaeL\\xe3\\x0b\\xa8\\n\\xaef\\x10\\xe6\\x8f\\x9a\\xdf\\xbf \\x82\\xf6\\xd5\\xfa_&g\\x1e\\xe0\\x0e\\x02:\\xb4ZB\\xc0Vl\\xfd\\xbb\\xd7\\x1dYL\\xc3`\\x83\\xab[\\xc7&\\xdae\\xb4\\x9a\\xf9s\\x19\\xad\\xca3!\\xe9+q\\x19/8\\xa3\\xe0\\x14\\x00h\\xfe}\\xf51\\xc6\\x8a !\\x171Aa\\x7f\\xae\\xa8-\\x018R[\\xe3$\\xf4M\\x83\\xe2\\xec\\xb5nu\\xce\\xf9\\x84\\xe4/{b\\x1d.\\xb4\\xed\\xe1!\\x9bU=\\x1c\\xb2\\xb5\\x1f8d\\xfb\\x8c\\xebV\\x93\\x911\\xfd\\x95G\\xbaX\\x9f\\xa5U\\xef;d\\xab\\xee\\xd9!\\xdbp\\x02\\xbbG\\xee\\xa0_m\\xd5\\xb6\\xb2e\\xb5\\x83_\\x1d\\xafk|\\x07\\xa5\\xafGFP\\xe2\\r\\xc5\\xf9\\xb0\\xd7\\xc3\\xfe\\xe5\\x9b\\xdc\\x99\\xa6\\xfa\\x0b\\xc2a_\\xfd\\x9dU\\x90,\\x12$\\x80\\x90\\x8b\\xfc!\\xa4q@\\xc8\\x93#d\\xe9\\xc8\\xe7\\x9f\\x10|\\x7f\\xbf\\xe6\\xee\\xe6\\x0e%\\xc7\\x07\\x94<9J\\xd2<\\x8c\\xbe\\xe6\\x18\\xc3\\xa4o27\\x19\\xa3\\xe4\\x0e%\\'\\x07\\x94<9J\\xba\\xc9\\t\\xde0\\xbd\\x9b\\x10C\\xc5d\\x00\\xc1/\\xc9\\x1dF\\x9a\\x07\\x8c<9F\\xae\\x04\\xff\\xac\\x93\\x03\\x17\\xd9e\\xe9\\x04%\\xd7\\x04\\x07\\xa8\\xbb|C:wx\\xd9\\xeef\\xd3\\xff\\xc6\\xcbW\\x92\\x9c\\xeb\\x94\\xcf\\x00\\x05\\xd28\\xa8\\ts,\\xd2\\xb6\\x03`\\x94\\x95(\\'w\\xe8\\xe8\\x1cRo{\\x98z;;\\xa4\\xde\\xda\\x0f\\xa4\\xde\\xa6\\xd1\\xa4\\xd2x\\xeb\\x9f\\xd4\\xa3\\x930M\\xbd\\xd5\\xeeK\\xbd\\xd5\\xf6,\\xf5\\xd6w\"{\\x99\\xabv\\n\\xb8+\\x97\\x8fv\\xf1W\\xbfn\\xaf\\xde\\xa3\\xd5\\x7f\\x86m\\x8f\\xe8\\x15\\xe7c\\xd4\\x11J\\x9f\\xebl\\x13\\xb0\\xbc\\xa4I\\x04WZ\\xdb\\xbd_\\x185vP\\xcd\\xd1\\xdf\\x7f\\xfc\\x85>\\x08\\xecD\\xe6P]\\xdf\\x9f\\xd8Ep\\xf5\\x0e\\xb6n\\x0fm]\\xffyW5O\\xaax\\xbfC\\xaa\\x90\\xb0\\x0b\\x12\\xff\\xc3\\x1djK\\xe6\\x01g6\\x9a1e\\xcf\\xe0{5\\xa1o\\xae\\x7f\\xcf\\n\\xa6\\xab\\x0f\\xbc\\x05\\xa6*\\xe6\\xd5\\xd0\\x05R\\xd4\\\\\\xcf\\x95\\xe2\\x01T\\xaf\\xc7\\xb5\\x15\\x0f\\x17\\x0fq\\xf0\\x90>\\x99\\xcbj\\x8bG\\x0f\\x1c\\x1dm4\\x92\\xd8b\\xcc\\xb9J\\x1f\\x93\\x1e~\\x8e\\x82k\\xa0Xx)\\xb5\\xf3\\xb0\\xb8T\\x98\\x8e\\xbd\\x9c\\xfe\\xc9\\x97\\xf2\\xe2o\\x8b\\x9d\\xfe\\x17PK\\x07\\x08\\x01\\\\HO\\x90\\x08\\x00\\x00\\xa0L\\x00\\x00PK\\x03\\x04\\x14\\x00\\x08\\x08\\x08\\x00Y\\xb3\\x19[\\x00\\x00\\x00\\x00\\x00\\x00\\x00\\x00\\x00\\x00\\x00\\x00\\x1c\\x00\\x00\\x00word/_rels/document.xml.rels\\xad\\x92Mj\\xc30\\x10\\x85O\\xd0;\\x88\\xd9\\xd7\\xb2\\xd3\\x1fJ\\x89\\x9cM\\x08d[\\xdc\\x03(\\xf2\\xf8\\x87Z#!MJ}\\xfb\\x8a\\x94$\\x0e\\x04\\xd3\\x85\\x97\\xef\\x89y\\xf3\\xcd\\x8c\\xd6\\x9b\\x1f;\\x88o\\x0c\\xb1w\\xa4\\xa0\\xc8r\\x10H\\xc6\\xd5=\\xb5\\n>\\xab\\xdd\\xe3\\x1b\\x88\\xc8\\x9aj=8B\\x05#F\\xd8\\x94\\x0f\\xeb\\x0f\\x1c4\\xa7\\x9a\\xd8\\xf5>\\x8a\\x14BQA\\xc7\\xec\\xdf\\xa5\\x8c\\xa6C\\xabc\\xe6<Rzi\\\\\\xb0\\x9a\\x93\\x0c\\xad\\xf4\\xda|\\xe9\\x16\\xe5*\\xcf_e\\x98f@y\\x93)\\xf6\\xb5\\x82\\xb0\\xaf\\x0b\\x10\\xd5\\xe8\\xf1?\\xd9\\xaeiz\\x83[g\\x8e\\x16\\x89\\xef\\xb4\\x90\\x9cj1\\x05\\xea\\xd0\"+8\\xc9?\\xb3\\xc8R\\x18\\xc8\\xfb\\x0c\\xab%\\x19\"2\\xa7\\xe5\\xc6+\\xc6\\xd9\\x99CxZ\\x12\\xa1q\\xc4\\x95>\\x0c\\x93U\\\\\\xac9\\x88\\xe7%!\\xe8h\\x0f\\x18\\xd2\\xdcW\\x88\\x8b5\\x07\\xf1\\xb2\\xe81x\\x1cpz\\x8a\\x93>\\xb7\\x977\\x9f\\xbc\\xfc\\x05PK\\x07\\x08\\x90\\x00\\xab\\xeb\\xf1\\x00\\x00\\x00,\\x03\\x00\\x00PK\\x03\\x04\\x14\\x00\\x08\\x08\\x08\\x00Y\\xb3\\x19[\\x00\\x00\\x00\\x00\\x00\\x00\\x00\\x00\\x00\\x00\\x00\\x00\\x0b\\x00\\x00\\x00_rels/.rels\\x8d\\xcf;\\x0e\\xc20\\x0c\\x06\\xe0\\x13p\\x87\\xc8;M\\xcb\\x80\\x10j\\xd2\\x05!uE\\xe5\\x00Q\\xe2\\xa6\\x11\\xcdCIx\\xf4\\xf6d`\\x00\\xc4\\xc0h\\xfb\\xf7g\\xb9\\xed\\x1ev&7\\x8c\\xc9x\\xc7\\xa0\\xa9j \\xe8\\xa4W\\xc6i\\x06\\xe7\\xe1\\xb8\\xde\\x01IY8%f\\xef\\x90\\xc1\\x82\\t:\\xbejO8\\x8b\\\\v\\xd2dB\"\\x05q\\x89\\xc1\\x94s\\xd8S\\x9a\\xe4\\x84V\\xa4\\xca\\x07te2\\xfahE.e\\xd44\\x08y\\x11\\x1a\\xe9\\xa6\\xae\\xb74\\xbe\\x1b\\xc0?L\\xd2+\\x06\\xb1W\\r\\x90a\\t\\xf8\\x8f\\xed\\xc7\\xd1H<xy\\xb5\\xe8\\xf2\\x8f\\x13_\\x89\"\\x8b\\xa813\\xb8\\xfb\\xa8\\xa8z\\xb5\\xab\\xc2\\x02\\xe5-\\xfdx\\x91?\\x01PK\\x07\\x08-h\\xcf\"\\xb1\\x00\\x00\\x00*\\x01\\x00\\x00PK\\x03\\x04\\x14\\x00\\x08\\x08\\x08\\x00Y\\xb3\\x19[\\x00\\x00\\x00\\x00\\x00\\x00\\x00\\x00\\x00\\x00\\x00\\x00\\x15\\x00\\x00\\x00word/theme/theme1.xml\\xedYKo\\xdb6\\x1c\\xbf\\x0f\\xd8w toe\\xd9V\\xea\\x04u\\x8a\\xd8\\xb1\\xdb\\xadM\\x1b$n\\x87\\x1ei\\x89\\x96\\xd8P\\xa2@\\xd2I|\\x1b\\xda\\xe3\\x80\\x01\\xc3\\xbaa\\x87\\x15\\xd8m\\x87a[\\x81\\x16\\xd8\\xa5\\xfb4\\xd9:l\\x1d\\xd0\\xaf\\xb0\\xbf\\x1e\\x96)\\x9b\\xce\\xa3M\\xb7\\x0e\\xad\\x0f6I\\xfd\\xfe\\xef\\x07I\\xf9\\xf2\\x95\\xc3\\x88\\xa1}\"$\\xe5q\\xdbr.\\xd6,Db\\x8f\\xfb4\\x0e\\xda\\xd6\\xedA\\xffB\\xcbBR\\xe1\\xd8\\xc7\\x8c\\xc7\\xa4mM\\x88\\xb4\\xae\\xac\\x7f\\xf8\\xc1e\\xbc\\xa6B\\x12\\x11\\x04\\xf4\\xb1\\\\\\xc3m+T*Y\\xb3m\\xe9\\xc12\\x96\\x17yBbx6\\xe2\"\\xc2\\n\\xa6\"\\xb0}\\x81\\x0f\\x80o\\xc4\\xecz\\xad\\xb6bG\\x98\\xc6\\x16\\x8aq\\x04lo\\x8dF\\xd4#h\\x90\\xb2\\xb4\\xd6\\xa7\\xcc{\\x0c\\xbeb%\\xd3\\x05\\x8f\\x89]/\\x93\\xa8SdX\\x7f\\xcfI\\x7f\\xe4Dv\\x99@\\xfb\\x98\\xb5-\\x90\\xe3\\xf3\\x83\\x019T\\x16bX*x\\xd0\\xb6j\\xd9\\xc7\\xb2\\xd7/\\xdb%\\x11SKh5\\xba~\\xf6)\\xe8\\n\\x02\\x7f\\xaf\\x9e\\xd1\\x89`X\\x12:\\xfd\\xe6\\xea\\xa5\\xcd\\x92\\x7f=\\xe7\\xbf\\x88\\xeb\\xf5z\\xdd\\x9eS\\xf2\\xcb\\x00\\xd8\\xf3\\xc0Rg\\x01\\xdb\\xec\\xb7\\x9c\\xce\\x94\\xa7\\x06\\xca\\x87\\x8b\\xbc\\xbb5\\xb7\\xd6\\xac\\xe25\\xfe\\x8d\\x05\\xfcj\\xa7\\xd3qW+\\xf8\\xc6\\x0c\\xdf\\\\\\xc0\\xb7j+\\xcd\\x8dz\\x05\\xdf\\x9c\\xe1\\xddE\\xfd;\\x1b\\xdd\\xeeJ\\x05\\xef\\xce\\xf0+\\x0b\\xf8\\xfe\\xa5\\xd5\\x95f\\x15\\x9f\\x81BF\\xe3\\xbd\\x05t\\x1a\\xcf22%d\\xc4\\xd95#\\xbc\\x05\\xf0\\xd64\\x01f([\\xcb\\xae\\x9c>V\\xcbr-\\xc2\\xf7\\xb8\\xe8\\x03 \\x0b.V4Fj\\x92\\x90\\x11\\xf6\\x00\\xd7\\xc5\\x8c\\x0e\\x05M\\x05\\xe05\\x82\\xb5\\'\\xf9\\x92\\'\\x17\\x96RYHz\\x82&\\xaam}\\x9c`\\xa8\\x88\\x19\\xe4\\xe5\\xb3\\x1f_>{\\x82\\x8e\\xee?=\\xba\\xff\\xcb\\xd1\\x83\\x07G\\xf7\\x7f6P]\\xc3q\\xa0S\\xbd\\xf8\\xfe\\x8b\\xbf\\x1f}\\x8a\\xfez\\xf2\\xdd\\x8b\\x87_\\x99\\xf1R\\xc7\\xff\\xfe\\xd3g\\xbf\\xfd\\xfa\\xa5\\x19\\xa8t\\xe0\\xf3\\xaf\\x1f\\xff\\xf1\\xf4\\xf1\\xf3o>\\xff\\xf3\\x87\\x87\\x06\\xf8\\x86\\xc0C\\x1d>\\xa0\\x11\\x91\\xe8&9@;<\\x02\\xc3\\x0c\\x02\\xc8P\\x9c\\x8db\\x10b\\xaaSl\\xc4\\x81\\xc41Ni\\x0c\\xe8\\x9e\\n+\\xe8\\x9b\\x13\\xcc\\xb0\\x01\\xd7!U\\x0f\\xde\\x11\\xd0\\x02L\\xc0\\xab\\xe3{\\x15\\x85wC1V\\xd4\\x00\\xbc\\x1eF\\x15\\xe0\\x16\\xe7\\xac\\xc3\\x85\\xd1\\xa6\\xeb\\xa9,\\xdd\\x0b\\xe380\\x0b\\x17c\\x1d\\xb7\\x83\\xf1\\xbeIvw.\\xbe\\xbdq\\x02\\xb9LM,\\xbb!\\xa9\\xa8\\xb9\\xcd \\xe48 1Q(}\\xc6\\xf7\\x081\\x90\\xdd\\xa5\\xb4\\xe2\\xd7-\\xea\\t.\\xf9H\\xa1\\xbb\\x14u05\\xbad@\\x87\\xcaLt\\x8dF\\x10\\x97\\x89IA\\x88w\\xc57[wP\\x873\\x13\\xfbM\\xb2_EBU`fbIX\\xc5\\x8dW\\xf1X\\xe1\\xc8\\xa81\\x8e\\x98\\x8e\\xbc\\x81UhRrw\"\\xbc\\x8a\\xc3\\xa5\\x82H\\x07\\x84q\\xd4\\xf3\\x89\\x94&\\x9a[bRQ\\xf7:\\xb4\\x0es\\xd8\\xb7\\xd8$\\xaa\"\\x85\\xa2{&\\xe4\\r\\xcc\\xb9\\x8e\\xdc\\xe4{\\xdd\\x10G\\x89Qg\\x1a\\x87:\\xf6#\\xb9\\x07)\\x8a\\xd16WF%x\\xb5B\\xd29\\xc4\\x01\\xc7K\\xc3}\\x87\\x12u\\xb6\\xda\\xbeM\\x83\\xd0\\x9c \\xe9\\x93\\xb10\\x95\\x04\\xe1\\xd5z\\x9c\\xb0\\x11&q\\xd1\\xe1+\\xbd:\\xa2\\xf1q\\x8d;\\x82\\xbe\\x8d\\xcf\\xbbqC\\xab|\\xfe\\xed\\xa3\\xffQ\\xcb\\xde\\x00\\'\\x98jf\\xbeQ/\\xc3\\xcd\\xb7\\xe7.\\x17>}\\xfb\\xbb\\xf3&\\x1e\\xc7\\xdb\\x04\\n\\xe2}s~\\xdf\\x9c\\xdf\\xc5\\xe6\\xbc\\xac\\x9e\\xcf\\xbf%\\xcf\\xba\\xb0\\xad\\x1f\\xb436\\xd1\\xd2S\\xf7\\x882\\xb6\\xab&\\x8c\\xdc\\x90Y\\xff\\x96`\\x9e\\xdf\\x87\\xc5l\\x92\\x11\\x95\\x87\\xfc$\\x84a!\\xae\\x82\\x0b\\x04\\xce\\xc6Hp\\xf5\\tU\\xe1n\\x88\\x13\\x10\\xe3d\\x12\\x02Y\\xb0\\x0e$J\\xb8\\x84\\xab\\x85\\xb5\\x94wv?\\xa5`s\\xb6\\xe6N/\\x95\\x80\\xc6j\\x8b\\xfb\\xf9rC\\xbfl\\x96l\\xb2Y uA\\x8d\\x94\\xc1i\\x855.\\xbd\\x9e0\\'\\x07\\x9eR\\x9a\\xe3\\x9a\\xa5\\xb9\\xc7J\\xb35oB\\xdd \\x9c\\xbeJpV\\xea\\xb9hH\\x14\\xcc\\x88\\x9f\\xfa=g0\\r\\xcb\\x1b\\x0c\\x91S\\xd3b\\x14b\\x9f\\x18\\x965\\xfb\\x9c\\xc6\\x1b\\xf1\\xa6{&%\\xce\\xc7\\xc9\\xb5\\x05\\'\\xdb\\x8b\\xd5\\xc4\\xe2\\xea\\x0c\\x1d\\xb4\\xadU\\xb7\\xeeZ\\xc8\\xc3I\\xdb\\x1a\\xc1i\\t\\x86Q\\x02\\xfcd\\xdai0\\x0b\\xe2\\xb6\\xe5\\xa9\\xdc\\xc0\\x93kq\\xce\\xe2UsV95w\\x99\\xc1\\x15\\x11\\x89\\x90j\\x13\\xcb0\\xa7\\xca\\x1eM_\\xa5\\xc43\\xfd\\xebn3\\xf5\\xc3\\xf9\\x18`h&\\xa7\\xd3\\xa2\\xd1r\\xfeC-\\xec\\xf9\\xd0\\x92\\xd1\\x88xj\\xc9\\xcalZ<\\xe3cE\\xc4n\\xe8\\x1f\\xa0!\\x1b\\x8b\\x1d\\x0cz7\\xf3\\xec\\xf2\\xa9\\x84N_\\x9fN\\x04\\xe4v\\xb3H\\xbcj\\xe1\\x16\\xb51\\xff\\xca\\xa6\\xa8\\x19\\xcc\\x92\\x10\\x17\\xd9\\xde\\xd2b\\x9f\\xc3\\xb3q\\xa9C6\\xd3\\xd4\\xb3\\x97\\xe8\\xfe\\x8a\\xa64\\xce\\xd1\\x14\\xf7\\xdd5%\\xcd\\\\8\\x9f6\\xfc\\xec\\xd2\\x04\\xbb\\xb8\\xc0(\\xcd\\xd1\\xb6\\xc5\\x85\\n9t\\xa1$\\xa4^_\\xc0\\xbe\\x9f\\xc9\\x02\\xbd\\x10\\x94E\\xaa\\x12b\\xe9\\x0b\\xe8TW\\xb2?\\xeb[9\\x8f\\xbc\\xc9\\x05\\xa1\\xda\\xa1\\x01\\x12\\x14:\\x9d\\n\\x05!\\xdb\\xaa\\xb0\\xf3\\x04fN]\\xdf\\x1e\\xa7\\x8c\\x8a>S\\xaa+\\x93\\xfcwH\\xf6\\t\\x1b\\xa4\\xd5\\xbb\\x92\\xdao\\xa1p\\xdaM\\nGd\\xb8\\xf9\\xa0\\xd9\\xa6\\xea\\x1a\\x06\\xfd\\xb7\\xf8\\xe0\\xd2|\\xa5\\x8dg&\\xa8y\\x96\\xcd\\xaf\\xa95}m+X}=\\x15N\\xb3\\x01k\\xe2\\xeaf\\x8b\\xeb\\xee\\xd2\\x9dg~\\xabM\\xe0\\x96\\x81\\xd2/h\\xdcTxlv<\\x1d\\xf0\\x1d\\x88>*\\xf7y\\x04\\x89x\\xa1U\\x94_\\xb98\\x04\\x9d[\\x9aq)\\xab\\x7f\\xeb\\x14\\xd4Z\\x12\\xef\\xf3<;j\\xcen,q\\xf6\\xf1\\xe2^\\xdd\\xd9\\xae\\xc1\\xd7\\xee\\xf1\\xae\\xb6\\x17K\\xd4\\xd6\\xee!\\xd9l\\xe1\\x8f(>\\xbc\\x07\\xb27\\xe1z3f\\xf9\\x8aL`\\x96\\x0f\\xb6Ef\\xf0\\x90\\xfb\\x93b\\xc8d\\xde\\x12rGL[:\\x8bw\\xc8\\x08Q\\xffp\\x1a\\xd69\\x8f\\x16\\xff\\xf4\\x94\\x9b\\xf9N. \\xb5\\xbd$l\\x9cLX\\xe0g\\x9bHI\\\\?\\x99\\xb8\\xa4\\x98\\xde\\xf1J\\xe2\\xec\\x16gb\\xc0f\\x92s|\\x1e\\xe5\\xb2E\\x96\\x9eb\\xf1\\xeb\\xb8\\xec\\x14\\xca\\x9b]f\\xcc\\xde\\xd3\\xba\\xec\\x14\\x81z\\x05\\x97\\xa9\\xc3\\xe3]Vx\\xca6%\\x1e9T\\x02w\\xa7\\x7f]A\\xfe\\xda\\xb3\\x94]\\xff\\x07PK\\x07\\x08!Z\\xa2\\x84,\\x06\\x00\\x00\\xdb\\x1d\\x00\\x00PK\\x03\\x04\\x14\\x00\\x08\\x08\\x08\\x00Y\\xb3\\x19[\\x00\\x00\\x00\\x00\\x00\\x00\\x00\\x00\\x00\\x00\\x00\\x00\\x13\\x00\\x00\\x00[Content_Types].xml\\xb5\\x93Mn\\xc20\\x10\\x85O\\xd0;D\\xdeV\\xc4\\xd0EUU\\x04\\x16\\xfdY\\xb6]\\xd0\\x03\\x0c\\xce\\x04\\xac\\xfaO\\x9e\\x81\\xc2\\xed;\\t\\x90\\x05\\x02\\xa9\\x95\\x9a\\x8de\\xfb\\xcd\\xbc\\xf7y$O\\xe7;\\xef\\x8a-f\\xb21TjR\\x8eU\\x81\\xc1\\xc4\\xda\\x86U\\xa5>\\x17\\xaf\\xa3\\x07U\\x10C\\xa8\\xc1\\xc5\\x80\\x95\\xda#\\xa9\\xf9\\xecf\\xba\\xd8\\'\\xa4B\\x9a\\x03Uj\\xcd\\x9c\\x1e\\xb5&\\xb3F\\x0fT\\xc6\\x84A\\x94&f\\x0f,\\xc7\\xbc\\xd2\\t\\xcc\\x17\\xacP\\xdf\\x8d\\xc7\\xf7\\xda\\xc4\\xc0\\x18x\\xc4\\xad\\x87\\x9aM\\x9f\\xb1\\x81\\x8d\\xe3\\xe2\\xe9p\\xdfZW\\nRr\\xd6\\x00\\x0b\\x97\\x163U\\xbc\\xecD<`\\xb6g\\xfd\\x8b\\xbem\\xa8\\xcf`FG\\x902\\xa3\\xebjhm\\x13\\xdd\\x9e\\x07\\x88Jm\\xc2\\xbbL&\\xdb\\x1a\\xff\\x14\\x11\\x9b\\xc6\\x1a\\xac\\xa3\\xd9xi)\\xbfc\\xaeS\\x8e\\x06\\x89d\\xa8\\xde\\x95\\x84\\xcc\\xb2;\\xa6~@\\xe67\\xf0b\\xab\\xdbJ}R\\xcb\\xe3#\\x87A\\xe0\\xbd\\xc3k\\x00\\x9d6h|#^\\x0bX:\\xbcL\\xd0\\xcb\\x83B\\x84\\x8d_b\\x96\\xfde\\x88^\\x1e\\x14\\xa2W<\\xd8p\\x19\\xa4/\\xf9G\\x0e\\x96\\x8fze\\xf8\\x9dtX\\'\\xa7H\\xdd\\xfd\\xf6\\xd9\\x0fPK\\x07\\x083\\xaf\\x0f\\xb7,\\x01\\x00\\x00-\\x04\\x00\\x00PK\\x01\\x02\\x14\\x00\\x14\\x00\\x08\\x08\\x08\\x00Y\\xb3\\x19[$\\xc3\\xb76\\xc2\\x02\\x00\\x00\\x9c\\x1d\\x00\\x00\\x12\\x00\\x00\\x00\\x00\\x00\\x00\\x00\\x00\\x00\\x00\\x00\\x00\\x00\\x00\\x00\\x00\\x00word/numbering.xmlPK\\x01\\x02\\x14\\x00\\x14\\x00\\x08\\x08\\x08\\x00Y\\xb3\\x19[D=\\xb5S@\\x02\\x00\\x00G\\x08\\x00\\x00\\x11\\x00\\x00\\x00\\x00\\x00\\x00\\x00\\x00\\x00\\x00\\x00\\x00\\x00\\x02\\x03\\x00\\x00word/settings.xmlPK\\x01\\x02\\x14\\x00\\x14\\x00\\x08\\x08\\x08\\x00Y\\xb3\\x19[\\xa0c\\x9cu\\xb7\\x01\\x00\\x00\\xb7\\x06\\x00\\x00\\x12\\x00\\x00\\x00\\x00\\x00\\x00\\x00\\x00\\x00\\x00\\x00\\x00\\x00\\x81\\x05\\x00\\x00word/fontTable.xmlPK\\x01\\x02\\x14\\x00\\x14\\x00\\x08\\x08\\x08\\x00Y\\xb3\\x19[\\x8bxM]c\\x03\\x00\\x00+\\x14\\x00\\x00\\x0f\\x00\\x00\\x00\\x00\\x00\\x00\\x00\\x00\\x00\\x00\\x00\\x00\\x00x\\x07\\x00\\x00word/styles.xmlPK\\x01\\x02\\x14\\x00\\x14\\x00\\x08\\x08\\x08\\x00Y\\xb3\\x19[\\x01\\\\HO\\x90\\x08\\x00\\x00\\xa0L\\x00\\x00\\x11\\x00\\x00\\x00\\x00\\x00\\x00\\x00\\x00\\x00\\x00\\x00\\x00\\x00\\x18\\x0b\\x00\\x00word/document.xmlPK\\x01\\x02\\x14\\x00\\x14\\x00\\x08\\x08\\x08\\x00Y\\xb3\\x19[\\x90\\x00\\xab\\xeb\\xf1\\x00\\x00\\x00,\\x03\\x00\\x00\\x1c\\x00\\x00\\x00\\x00\\x00\\x00\\x00\\x00\\x00\\x00\\x00\\x00\\x00\\xe7\\x13\\x00\\x00word/_rels/document.xml.relsPK\\x01\\x02\\x14\\x00\\x14\\x00\\x08\\x08\\x08\\x00Y\\xb3\\x19[-h\\xcf\"\\xb1\\x00\\x00\\x00*\\x01\\x00\\x00\\x0b\\x00\\x00\\x00\\x00\\x00\\x00\\x00\\x00\\x00\\x00\\x00\\x00\\x00\"\\x15\\x00\\x00_rels/.relsPK\\x01\\x02\\x14\\x00\\x14\\x00\\x08\\x08\\x08\\x00Y\\xb3\\x19[!Z\\xa2\\x84,\\x06\\x00\\x00\\xdb\\x1d\\x00\\x00\\x15\\x00\\x00\\x00\\x00\\x00\\x00\\x00\\x00\\x00\\x00\\x00\\x00\\x00\\x0c\\x16\\x00\\x00word/theme/theme1.xmlPK\\x01\\x02\\x14\\x00\\x14\\x00\\x08\\x08\\x08\\x00Y\\xb3\\x19[3\\xaf\\x0f\\xb7,\\x01\\x00\\x00-\\x04\\x00\\x00\\x13\\x00\\x00\\x00\\x00\\x00\\x00\\x00\\x00\\x00\\x00\\x00\\x00\\x00{\\x1c\\x00\\x00[Content_Types].xmlPK\\x05\\x06\\x00\\x00\\x00\\x00\\t\\x00\\t\\x00B\\x02\\x00\\x00\\xe8\\x1d\\x00\\x00\\x00\\x00'}\n"
          ]
        }
      ]
    },
    {
      "cell_type": "code",
      "source": [
        "from google.colab import files\n",
        "from langchain_community.document_loaders import TextLoader, Docx2txtLoader\n",
        "filename = list(uploaded.keys())[0]\n",
        "\n",
        "# Load based on file type\n",
        "if filename.endswith(\".txt\"):\n",
        "    fileLoader = TextLoader(filename)\n",
        "elif filename.endswith(\".docx\"):\n",
        "    fileLoader = Docx2txtLoader(filename)\n",
        "else:\n",
        "    raise ValueError(\"Unsupported file type\")"
      ],
      "metadata": {
        "id": "JvStUy9eu6Nm"
      },
      "execution_count": null,
      "outputs": []
    },
    {
      "cell_type": "code",
      "source": [
        "resumeDocs = fileLoader.load()"
      ],
      "metadata": {
        "id": "Qwvva4U31Ka3"
      },
      "execution_count": null,
      "outputs": []
    },
    {
      "cell_type": "code",
      "source": [
        "r_query_text = resumeDocs[0].page_content[:2000]\n",
        "input_query_text = f\"\"\"\n",
        "You are an expert in applicant tracking systems (ATS) and resume optimization.\n",
        "\n",
        "Analyze the resume text below and answer the following:\n",
        "\n",
        "1. Is this resume optimized for ATS? (Answer with YES or NO)\n",
        "2. Briefly explain why you gave that answer.\n",
        "3. List 2–3 specific improvements (if applicable) to make the resume more ATS-friendly.\n",
        "\n",
        "Resume:\n",
        "--------------------\n",
        "{r_query_text}\n",
        "--------------------\n",
        "\"\"\""
      ],
      "metadata": {
        "id": "nuzVRvdvvRMA"
      },
      "execution_count": null,
      "outputs": []
    },
    {
      "cell_type": "code",
      "source": [
        "response = rag_chain.invoke({\"input\": input_query_text})\n",
        "\n",
        "print(\"Raw response:\")\n",
        "print(response)\n",
        "if isinstance(response, dict):\n",
        "    print(response.get(\"result\") or response.get(\"answer\") or response)\n",
        "else:\n",
        "    print(response)"
      ],
      "metadata": {
        "id": "h_Ygcr-byeip",
        "outputId": "e50913bb-61bb-48ad-9296-a9466a9acfc0",
        "colab": {
          "base_uri": "https://localhost:8080/"
        }
      },
      "execution_count": null,
      "outputs": [
        {
          "output_type": "stream",
          "name": "stdout",
          "text": [
            "Raw response:\n",
            "{'input': '\\nYou are an expert in applicant tracking systems (ATS) and resume optimization.\\n\\nAnalyze the resume text below and answer the following:\\n\\n1. Is this resume optimized for ATS? (Answer with YES or NO)\\n2. Briefly explain why you gave that answer.\\n3. List 2–3 specific improvements (if applicable) to make the resume more ATS-friendly.\\n\\nResume:\\n--------------------\\nJohn Doe\\n Seattle, WA | john.doe@email.com | (123) 456-7890 | linkedin.com/in/johndoe\\n\\n\\n\\nProfessional Summary\\n\\nResults-driven marketing specialist with 5+ years of experience in digital marketing, SEO, SEM, paid search campaigns, CRM management, and cross-functional collaboration. Proven ability to increase website traffic, improve conversion rates, and optimize marketing campaigns to deliver high ROI.\\n\\n\\n\\nWork Experience\\n\\nMarketing Specialist\\n Acme Tech Solutions, Seattle, WA\\n Jan 2021 – Present\\n\\nLed SEO strategy resulting in a 40% increase in organic traffic within one year.\\n\\n\\nManaged Google Ads campaigns with a $100,000 monthly budget, achieving a 20% improvement in return on ad spend (ROAS).\\n\\n\\nDeveloped content marketing strategies that boosted lead generation by 35%.\\n\\n\\nCollaborated with sales and product teams on go-to-market strategies for new feature launches.\\n\\n\\nDigital Marketing Coordinator\\n BrightWave Marketing, Remote\\n Jun 2018 – Dec 2020\\n\\nCreated and managed targeted email marketing campaigns using HubSpot and Mailchimp.\\n\\n\\nOptimized landing pages and CTAs, increasing conversion rates by 18%.\\n\\n\\nMonitored KPIs and reported analytics insights with Google Analytics and Looker.\\n\\n\\n\\n\\nSkills\\n\\nSearch Engine Optimization (SEO)\\n\\n\\nSearch Engine Marketing (SEM)\\n\\n\\nGoogle Ads & Google Analytics\\n\\n\\nHubSpot CRM & Email Marketing\\n\\n\\nContent Strategy & Creation\\n\\n\\nProject Management & Team Collaboration\\n\\n\\nA/B Testing & Conversion Rate Optimization\\n\\n\\n\\n\\nEducation\\n\\nBachelor of Arts in Marketing\\n State University — Graduated 2018\\n--------------------\\n', 'context': [Document(metadata={'source': 'https://resumerocket.io/blog/keyword-optimization-guide-making-your-resume-ats-friendly', 'language': 'en', 'description': 'Learn how to extract and strategically place the right keywords in your resume to get past Applicant Tracking Systems. This step-by-step guide shows you how to analyze job descriptions, implement keywords naturally, and avoid common mistakes that trigger ATS rejection.RetryClaude can make mistakes. Please double-check responses.', 'title': 'Keyword Optimization Guide: Making Your Resume ATS-Friendly'}, page_content=\"they match your intended keywords?\\nATS simulators: Several online tools allow you to compare your resume\\nagainst a job description, highlighting potential keyword gaps.\\nThe six-second scan: Studies show recruiters initially spend just six\\nseconds reviewing a resume. Can someone identify your key qualifications in that\\ntime?\\nOur resume builder offers built-in ATS compatibility checking that can help\\nidentify potential keyword issues before you submit. This kind of pre-submission\\ntesting can save you weeks of waiting for responses that may never come.\\nReal-World Success: When Keywords Open Doors\\nLet me share a quick case study that demonstrates the power of proper keyword\\noptimization:\\nSarah was a marketing professional with eight years of experience who couldn't\\nseem to get past the application stage for senior roles. We analyzed her resume\\nagainst typical job postings and made a surprising discovery: while she had\"), Document(metadata={'source': 'https://resumerocket.io/blog/keyword-optimization-guide-making-your-resume-ats-friendly', 'language': 'en', 'description': 'Learn how to extract and strategically place the right keywords in your resume to get past Applicant Tracking Systems. This step-by-step guide shows you how to analyze job descriptions, implement keywords naturally, and avoid common mistakes that trigger ATS rejection.RetryClaude can make mistakes. Please double-check responses.', 'title': 'Keyword Optimization Guide: Making Your Resume ATS-Friendly'}, page_content='Let\\'s see this in action with a before and after example:\\nBefore: \"Managed team projects and ensured timely delivery of all\\nassignments.\"\\nAfter: \"Led cross-functional project teams using Agile project management\\nmethodologies, ensuring on-time delivery of client deliverables while\\nmaintaining ISO 9001 quality standards.\"\\nNotice how the enhanced version incorporates multiple keywords naturally while\\nactually providing more specific information. This is the sweet\\nspot—optimization that improves both ATS compatibility and human readability.\\nCustomization Without Starting From Scratch\\nI know what you\\'re thinking: \"Do I need to rewrite my entire resume for every\\napplication?\"\\nThe answer is no—but strategic customization is essential. Here\\'s my time-saving\\napproach:\\n\\n\\nCreate a comprehensive \"master resume\" containing all your skills,\\nexperiences, and achievements.\\n\\n\\nFor each application, select the most relevant 80% of content from this\\nmaster document.'), Document(metadata={'description': 'Learn how to extract and strategically place the right keywords in your resume to get past Applicant Tracking Systems. This step-by-step guide shows you how to analyze job descriptions, implement keywords naturally, and avoid common mistakes that trigger ATS rejection.RetryClaude can make mistakes. Please double-check responses.', 'language': 'en', 'source': 'https://resumerocket.io/blog/keyword-optimization-guide-making-your-resume-ats-friendly', 'title': 'Keyword Optimization Guide: Making Your Resume ATS-Friendly'}, page_content=\"language of ATS systems doesn't mean sacrificing authenticity or clarity. In\\nfact, the best keyword optimization enhances both machine compatibility and\\nhuman readability.\\nHave you found specific keywords that seem to work particularly well in your\\nindustry? Or do you have questions about optimizing your specific resume? Drop a\\ncomment below—I'd love to continue the conversation and help you break through\\nthe ATS barrier.\\nYour perfect-fit job opportunity is out there. With the right keywords, you're\\none step closer to making sure it finds you.\"), Document(metadata={'description': 'Learn how to extract and strategically place the right keywords in your resume to get past Applicant Tracking Systems. This step-by-step guide shows you how to analyze job descriptions, implement keywords naturally, and avoid common mistakes that trigger ATS rejection.RetryClaude can make mistakes. Please double-check responses.', 'source': 'https://resumerocket.io/blog/keyword-optimization-guide-making-your-resume-ats-friendly', 'title': 'Keyword Optimization Guide: Making Your Resume ATS-Friendly', 'language': 'en'}, page_content='management\" when they appear in the job description.\\nUsing graphics or fancy formatting to highlight keywords: Many ATS systems\\ncannot read text embedded in images or complex design elements.\\nOne client insisted on creating a beautiful word cloud of his skills. While\\nvisually impressive, his applications were consistently rejected because the ATS\\ncouldn\\'t interpret the design element. When we moved those same keywords into a\\nstandard skills section, his response rate improved immediately.\\nTesting Your Keyword Optimization: Measure Twice, Submit Once\\nBefore hitting \"submit,\" how can you know if your keyword optimization is\\neffective? Try these approaches:\\nThe human test: Ask someone unfamiliar with your field to read your resume\\nand highlight what they think are your primary skills and qualifications. Do\\nthey match your intended keywords?\\nATS simulators: Several online tools allow you to compare your resume\\nagainst a job description, highlighting potential keyword gaps.')], 'answer': '1. YES\\n2. The resume is optimized for ATS because it includes relevant keywords related to the candidate\\'s experience in digital marketing, SEO, SEM, CRM, and other key skills. The content is structured clearly with sections such as Professional Summary, Work Experience, Skills, and Education, making it easy for ATS to parse and identify relevant information.\\n3. Specific improvements to make the resume more ATS-friendly:\\n   a. Include specific job titles within the Work Experience section, such as \"Marketing Specialist\" and \"Digital Marketing Coordinator,\" to align with potential job postings.\\n   b. Expand the Skills section with more specific software or tools related to SEO, SEM, CRM, and project management to increase keyword density and match with ATS requirements.'}\n",
            "1. YES\n",
            "2. The resume is optimized for ATS because it includes relevant keywords related to the candidate's experience in digital marketing, SEO, SEM, CRM, and other key skills. The content is structured clearly with sections such as Professional Summary, Work Experience, Skills, and Education, making it easy for ATS to parse and identify relevant information.\n",
            "3. Specific improvements to make the resume more ATS-friendly:\n",
            "   a. Include specific job titles within the Work Experience section, such as \"Marketing Specialist\" and \"Digital Marketing Coordinator,\" to align with potential job postings.\n",
            "   b. Expand the Skills section with more specific software or tools related to SEO, SEM, CRM, and project management to increase keyword density and match with ATS requirements.\n"
          ]
        }
      ]
    },
    {
      "cell_type": "markdown",
      "metadata": {
        "id": "PWX7S7KU_U1F"
      },
      "source": [
        "# Adding History"
      ]
    },
    {
      "cell_type": "code",
      "metadata": {
        "id": "a3026c23"
      },
      "source": [],
      "execution_count": null,
      "outputs": []
    }
  ],
  "metadata": {
    "colab": {
      "provenance": [],
      "include_colab_link": true
    },
    "kernelspec": {
      "display_name": "Python 3",
      "name": "python3"
    },
    "language_info": {
      "name": "python"
    }
  },
  "nbformat": 4,
  "nbformat_minor": 0
}